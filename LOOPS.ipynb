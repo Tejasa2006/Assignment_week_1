{
 "cells": [
  {
   "cell_type": "markdown",
   "id": "f75c2c25-fc3d-492f-9857-687024dcfebd",
   "metadata": {},
   "source": [
    "# LOOP"
   ]
  },
  {
   "cell_type": "markdown",
   "id": "1c82c595-6083-43cd-8ab4-6344533254c3",
   "metadata": {},
   "source": [
    "## While Loop"
   ]
  },
  {
   "cell_type": "code",
   "execution_count": 7,
   "id": "bdde269b-bce9-4c33-b98b-affdf793f341",
   "metadata": {},
   "outputs": [
    {
     "name": "stdout",
     "output_type": "stream",
     "text": [
      "Siddhi\n",
      "Siddhi\n",
      "Siddhi\n",
      "Siddhi\n"
     ]
    }
   ],
   "source": [
    "count = 1\n",
    "\n",
    "while count <= 5 :\n",
    "    print(\"Siddhi\")\n",
    "    count = count + 1"
   ]
  },
  {
   "cell_type": "code",
   "execution_count": 13,
   "id": "e6d986f0-2877-4623-a6f7-afd03d3b3a8f",
   "metadata": {},
   "outputs": [
    {
     "name": "stdout",
     "output_type": "stream",
     "text": [
      "5 6 7 8 9 10 11 12 13 14 15 "
     ]
    }
   ],
   "source": [
    "# print Numbers from 5 to 15\n",
    "\n",
    "Num = 5\n",
    "\n",
    "while Num <= 15 :\n",
    "    print(Num , end = ' ')\n",
    "    Num = Num + 1"
   ]
  },
  {
   "cell_type": "code",
   "execution_count": 14,
   "id": "340fc733-9269-454e-b053-474e87ca9542",
   "metadata": {},
   "outputs": [
    {
     "name": "stdout",
     "output_type": "stream",
     "text": [
      "5\n",
      "6\n",
      "7\n",
      "8\n",
      "9\n",
      "10\n",
      "11\n",
      "12\n",
      "13\n",
      "14\n",
      "15\n"
     ]
    }
   ],
   "source": [
    "# print Numbers from 5 to 15\n",
    "\n",
    "Num = 5\n",
    "\n",
    "while Num <= 15 :\n",
    "    print(Num)\n",
    "    Num = Num + 1"
   ]
  },
  {
   "cell_type": "code",
   "execution_count": 18,
   "id": "33c7efb1-f4e0-4bfe-a303-5435dff9460b",
   "metadata": {},
   "outputs": [
    {
     "name": "stdout",
     "output_type": "stream",
     "text": [
      "2\n",
      "3\n",
      "4\n",
      "5\n",
      "6\n",
      "7\n",
      "8\n",
      "9\n",
      "10\n",
      "11\n"
     ]
    }
   ],
   "source": [
    "# print the Addition of Numbers from 1 to 10\n",
    "\n",
    "num = 1 \n",
    "i = 0 + num\n",
    "while  num <= 10:\n",
    "    print(num + i)\n",
    "    num = num + 1"
   ]
  },
  {
   "cell_type": "code",
   "execution_count": 4,
   "id": "dd270678-63f0-410e-a512-85751ba1dbc2",
   "metadata": {},
   "outputs": [
    {
     "name": "stdout",
     "output_type": "stream",
     "text": [
      "Addition is 55\n"
     ]
    }
   ],
   "source": [
    "count = 1\n",
    "add = 0\n",
    "\n",
    "while count <= 10:\n",
    "    add = add + count\n",
    "    count += 1\n",
    "print(\"Addition is\",add)"
   ]
  },
  {
   "cell_type": "code",
   "execution_count": 15,
   "id": "583fe7f2-847f-44be-8e05-63acb9ede981",
   "metadata": {},
   "outputs": [
    {
     "name": "stdout",
     "output_type": "stream",
     "text": [
      "Addition of odd numbers:-  1\n",
      "Addition of odd numbers:-  4\n",
      "Addition of odd numbers:-  9\n",
      "Addition of odd numbers:-  16\n",
      "Addition of odd numbers:-  25\n",
      "Addition of odd numbers:-  36\n",
      "Addition of odd numbers:-  49\n",
      "Addition of odd numbers:-  64\n",
      "Addition of odd numbers:-  81\n",
      "Addition of odd numbers:-  100\n"
     ]
    }
   ],
   "source": [
    "# Print the Addition of all odd numbers from 1 to 20\n",
    "\n",
    "count = 1\n",
    "add = 0\n",
    "\n",
    "while count <= 20:\n",
    "    add = add + count\n",
    "    count += 2\n",
    "    print (\"Addition of odd numbers:- \",add)"
   ]
  },
  {
   "cell_type": "code",
   "execution_count": 14,
   "id": "fa90bed8-a138-4cfc-b924-47afb4c3bce6",
   "metadata": {},
   "outputs": [
    {
     "name": "stdout",
     "output_type": "stream",
     "text": [
      "Addition of odd numbers:-  100\n"
     ]
    }
   ],
   "source": [
    "# Print the Addition of all odd numbers from 1 to 20\n",
    "\n",
    "count = 1\n",
    "add = 0\n",
    "\n",
    "while count <= 20:\n",
    "    add = add + count\n",
    "    count += 2\n",
    "print (\"Addition of odd numbers:- \",add)"
   ]
  },
  {
   "cell_type": "code",
   "execution_count": 2,
   "id": "82fc386b-0a0e-47e7-8ceb-b2710f9c485e",
   "metadata": {},
   "outputs": [
    {
     "name": "stdout",
     "output_type": "stream",
     "text": [
      "Factorial is 120\n"
     ]
    }
   ],
   "source": [
    "# Factorial => 5! =>\n",
    "\n",
    "num = 1\n",
    "fact = 1\n",
    "\n",
    "while num <= 5:\n",
    "    fact = fact * num\n",
    "    num += 1\n",
    "\n",
    "print(\"Factorial is\", fact)"
   ]
  },
  {
   "cell_type": "code",
   "execution_count": 6,
   "id": "2db645c9-ed28-411f-97a3-1510515e7e97",
   "metadata": {},
   "outputs": [
    {
     "name": "stdin",
     "output_type": "stream",
     "text": [
      "Enter the number:- 10\n"
     ]
    },
    {
     "name": "stdout",
     "output_type": "stream",
     "text": [
      "Factorial is:- 3628800\n"
     ]
    }
   ],
   "source": [
    "# Factorial\n",
    "\n",
    "num = int(input(\"Enter the number:-\"))\n",
    "fact = 1\n",
    "\n",
    "while num > 1:\n",
    "    fact = fact * num\n",
    "    num -= 1\n",
    "\n",
    "print(\"Factorial is:-\",fact)"
   ]
  },
  {
   "cell_type": "code",
   "execution_count": 11,
   "id": "003101b3-a72f-429c-af37-00ab83628802",
   "metadata": {},
   "outputs": [
    {
     "name": "stdin",
     "output_type": "stream",
     "text": [
      "Enter the number:- 10\n"
     ]
    },
    {
     "name": "stdout",
     "output_type": "stream",
     "text": [
      "Loop Sampla \n",
      "Factorial is:- 3628800\n"
     ]
    }
   ],
   "source": [
    "# Factorial while else\n",
    "\n",
    "\n",
    "num = int(input(\"Enter the number:-\"))\n",
    "fact = 1\n",
    "\n",
    "while num > 1:\n",
    "    fact = fact * num\n",
    "    num -= 1\n",
    "else:\n",
    "    print(\"Loop Sampla \")\n",
    "\n",
    "print(\"Factorial is:-\",fact)"
   ]
  },
  {
   "cell_type": "code",
   "execution_count": 3,
   "id": "3814d4b8-c7fc-46e8-9a48-fc64742a794a",
   "metadata": {},
   "outputs": [
    {
     "name": "stdin",
     "output_type": "stream",
     "text": [
      "Enter a multi digit number 12345\n"
     ]
    },
    {
     "name": "stdout",
     "output_type": "stream",
     "text": [
      "5\n",
      "9\n",
      "12\n",
      "14\n",
      "15\n"
     ]
    }
   ],
   "source": [
    "# Find the sum of digits in a number\n",
    "\n",
    "num = int(input(\"Enter a multi digit number\"))\n",
    "\n",
    "add = 0\n",
    "\n",
    "while num > 0:\n",
    "    rem = num % 10\n",
    "    add = add + rem\n",
    "    num = num // 10\n",
    "    print(add)"
   ]
  },
  {
   "cell_type": "markdown",
   "id": "47812790-0839-442c-ac1d-3d3dc30e3791",
   "metadata": {},
   "source": [
    "## FOR LOOP"
   ]
  },
  {
   "cell_type": "code",
   "execution_count": 4,
   "id": "5910cfc5-0729-4257-9579-080838c1c5bc",
   "metadata": {},
   "outputs": [
    {
     "name": "stdout",
     "output_type": "stream",
     "text": [
      "12\n",
      "34\n",
      "45\n",
      "21\n"
     ]
    }
   ],
   "source": [
    "for n in 12,34,45,21:\n",
    "    print(n)"
   ]
  },
  {
   "cell_type": "code",
   "execution_count": 6,
   "id": "ed130be1-3664-417f-8149-c24c725a1848",
   "metadata": {},
   "outputs": [
    {
     "name": "stdout",
     "output_type": "stream",
     "text": [
      "6\n",
      "17\n",
      "22\n",
      "10\n"
     ]
    }
   ],
   "source": [
    "for n in 12,34,45,21:\n",
    "    print(n // 2)"
   ]
  },
  {
   "cell_type": "code",
   "execution_count": 7,
   "id": "95ffe5c5-81d1-4f60-ba2b-a95f448c52a7",
   "metadata": {},
   "outputs": [
    {
     "data": {
      "text/plain": [
       "[0, 1, 2, 3, 4]"
      ]
     },
     "execution_count": 7,
     "metadata": {},
     "output_type": "execute_result"
    }
   ],
   "source": [
    "# Range Function\n",
    "\n",
    "list(range(5))"
   ]
  },
  {
   "cell_type": "code",
   "execution_count": 11,
   "id": "f5166ef1-091c-4b11-bd80-301123ef53ce",
   "metadata": {},
   "outputs": [
    {
     "data": {
      "text/plain": [
       "[5, 6, 7, 8, 9, 10, 11, 12, 13, 14, 15, 16, 17, 18, 19]"
      ]
     },
     "execution_count": 11,
     "metadata": {},
     "output_type": "execute_result"
    }
   ],
   "source": [
    "list(range(5 , 20))"
   ]
  },
  {
   "cell_type": "code",
   "execution_count": 12,
   "id": "a3d68232-16d0-4a96-8064-ea34ddcb5812",
   "metadata": {},
   "outputs": [
    {
     "data": {
      "text/plain": [
       "[5, 7, 9, 11, 13, 15, 17, 19]"
      ]
     },
     "execution_count": 12,
     "metadata": {},
     "output_type": "execute_result"
    }
   ],
   "source": [
    "list(range(5,20,2))"
   ]
  },
  {
   "cell_type": "code",
   "execution_count": 13,
   "id": "8ca7d2bf-bfd8-41de-bf78-6f23296005e4",
   "metadata": {},
   "outputs": [],
   "source": [
    "# range(start , end + 1, step)"
   ]
  },
  {
   "cell_type": "code",
   "execution_count": 16,
   "id": "7192f152-1929-4c99-9922-5da58e517c88",
   "metadata": {},
   "outputs": [
    {
     "name": "stdout",
     "output_type": "stream",
     "text": [
      "5\n",
      "6\n",
      "7\n",
      "8\n",
      "9\n",
      "10\n"
     ]
    }
   ],
   "source": [
    "for i in range(5,11):\n",
    "    print(i)\n",
    "    "
   ]
  },
  {
   "cell_type": "code",
   "execution_count": 20,
   "id": "a63653c2-a609-46ad-9a10-dc75f0cd1cbf",
   "metadata": {},
   "outputs": [
    {
     "name": "stdout",
     "output_type": "stream",
     "text": [
      "1\n",
      "3\n",
      "5\n",
      "7\n",
      "9\n",
      "11\n",
      "13\n",
      "15\n",
      "17\n",
      "19\n"
     ]
    }
   ],
   "source": [
    "# Print Odd numbers from 1 to 20\n",
    "for i in range(1,21,2):\n",
    "    print(i)"
   ]
  },
  {
   "cell_type": "code",
   "execution_count": 27,
   "id": "1f3ac3d9-374d-4fd8-a222-096f64867718",
   "metadata": {},
   "outputs": [
    {
     "name": "stdout",
     "output_type": "stream",
     "text": [
      "1\n",
      "4\n",
      "9\n",
      "16\n",
      "25\n",
      "36\n",
      "49\n",
      "64\n",
      "81\n",
      "100\n"
     ]
    }
   ],
   "source": [
    "# Addition of odd numbers\n",
    "add = 0\n",
    "for i in range(1,21,2):\n",
    "    add =  add + i\n",
    "    print(add)"
   ]
  },
  {
   "cell_type": "code",
   "execution_count": 28,
   "id": "ff7d4640-87cf-4543-a19a-54bb22cafc2c",
   "metadata": {},
   "outputs": [
    {
     "name": "stdout",
     "output_type": "stream",
     "text": [
      "Tejas\n",
      "Tejas\n",
      "Tejas\n",
      "Tejas\n",
      "Tejas\n",
      "Tejas\n",
      "Tejas\n",
      "Tejas\n",
      "Tejas\n",
      "Tejas\n"
     ]
    }
   ],
   "source": [
    "# Print String using for loop\n",
    "\n",
    "count = 1\n",
    "for i in range(1,11):\n",
    "    print(\"Tejas\")\n",
    "    count += 1"
   ]
  },
  {
   "cell_type": "code",
   "execution_count": 45,
   "id": "37c32624-773e-416b-84a3-daf60ac89e17",
   "metadata": {},
   "outputs": [
    {
     "name": "stdin",
     "output_type": "stream",
     "text": [
      "Enter a number 5\n"
     ]
    },
    {
     "name": "stdout",
     "output_type": "stream",
     "text": [
      "120\n"
     ]
    }
   ],
   "source": [
    "# find Factorial of a number using for loop....take user input\n",
    "\n",
    "num = int(input(\"Enter a number\"))\n",
    "fact = 1\n",
    "for i in range(num):\n",
    "    fact = fact * num\n",
    "    num -= 1\n",
    "print(fact)"
   ]
  },
  {
   "cell_type": "markdown",
   "id": "40cbbea9-eb68-4cc3-9d1b-4212bb602481",
   "metadata": {},
   "source": [
    "## BREAK STATEMENT"
   ]
  },
  {
   "cell_type": "code",
   "execution_count": 51,
   "id": "9fb2612a-a543-42d9-9136-513ada595a9d",
   "metadata": {},
   "outputs": [
    {
     "name": "stdout",
     "output_type": "stream",
     "text": [
      "1\n",
      "2\n",
      "3\n",
      "4\n"
     ]
    }
   ],
   "source": [
    "for i in range(1,10):\n",
    "    if i == 5:\n",
    "        break\n",
    "    print(i)"
   ]
  },
  {
   "cell_type": "code",
   "execution_count": 52,
   "id": "e134b379-830b-4f8a-98f0-dc30a0a5ee66",
   "metadata": {},
   "outputs": [
    {
     "name": "stdout",
     "output_type": "stream",
     "text": [
      "0\n",
      "1\n",
      "2\n",
      "3\n",
      "4\n",
      "5\n"
     ]
    }
   ],
   "source": [
    "count = 0\n",
    "while count < 10:\n",
    "    print(count)\n",
    "    if count == 5:\n",
    "        break\n",
    "    count += 1"
   ]
  },
  {
   "cell_type": "markdown",
   "id": "c8f9c145-35ca-4769-a71f-7d426ebfc312",
   "metadata": {},
   "source": [
    "## CONTINUE"
   ]
  },
  {
   "cell_type": "code",
   "execution_count": 53,
   "id": "47fe752e-0f84-46d3-90b9-82f33279ddeb",
   "metadata": {},
   "outputs": [
    {
     "name": "stdout",
     "output_type": "stream",
     "text": [
      "1\n",
      "2\n",
      "3\n",
      "4\n",
      "6\n",
      "7\n",
      "8\n",
      "9\n"
     ]
    }
   ],
   "source": [
    "for i in range(1,10):\n",
    "    if i == 5:\n",
    "        continue\n",
    "    print(i)"
   ]
  },
  {
   "cell_type": "code",
   "execution_count": null,
   "id": "40e448be-7a01-40c9-b0f2-8161ee36ed15",
   "metadata": {},
   "outputs": [],
   "source": [
    "# print odd using continue statement 1 to 12\n",
    "for i in range(1,13):\n",
    "    if i % 2 == 0:\n",
    "        continue\n",
    "    print(i)"
   ]
  },
  {
   "cell_type": "code",
   "execution_count": 1,
   "id": "6c4b048c-d655-47ec-b1ae-2d59a49ffe4c",
   "metadata": {},
   "outputs": [
    {
     "name": "stdin",
     "output_type": "stream",
     "text": [
      "Enter a Number 5\n"
     ]
    },
    {
     "name": "stdout",
     "output_type": "stream",
     "text": [
      "* \n",
      "* * \n",
      "* * * \n",
      "* * * * \n",
      "* * * * * \n"
     ]
    }
   ],
   "source": [
    "row = int(input(\"Enter a Number\"))\n",
    "\n",
    "\n",
    "for i in range(1 ,row + 1):\n",
    "    for j in range(i):\n",
    "        print(\"*\",end = \" \")\n",
    "    print()"
   ]
  },
  {
   "cell_type": "code",
   "execution_count": null,
   "id": "3c451470-ebec-4174-ac77-32c42f329285",
   "metadata": {},
   "outputs": [],
   "source": []
  }
 ],
 "metadata": {
  "kernelspec": {
   "display_name": "Python 3 (ipykernel)",
   "language": "python",
   "name": "python3"
  },
  "language_info": {
   "codemirror_mode": {
    "name": "ipython",
    "version": 3
   },
   "file_extension": ".py",
   "mimetype": "text/x-python",
   "name": "python",
   "nbconvert_exporter": "python",
   "pygments_lexer": "ipython3",
   "version": "3.11.7"
  }
 },
 "nbformat": 4,
 "nbformat_minor": 5
}
