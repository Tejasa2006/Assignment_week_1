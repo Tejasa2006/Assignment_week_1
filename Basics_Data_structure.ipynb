{
 "cells": [
  {
   "cell_type": "code",
   "execution_count": 1,
   "id": "5d7b08df-0c91-4dd7-8123-5b7455ead0ad",
   "metadata": {},
   "outputs": [
    {
     "name": "stdout",
     "output_type": "stream",
     "text": [
      "[12, 23, 34, 45, 17]\n"
     ]
    }
   ],
   "source": [
    "l = [12,23,34,45,17]\n",
    "print(l)"
   ]
  },
  {
   "cell_type": "code",
   "execution_count": 2,
   "id": "d9559eb0-e115-4fff-b5fb-9dd3ecef7f90",
   "metadata": {},
   "outputs": [
    {
     "data": {
      "text/plain": [
       "list"
      ]
     },
     "execution_count": 2,
     "metadata": {},
     "output_type": "execute_result"
    }
   ],
   "source": [
    "type(l)"
   ]
  },
  {
   "cell_type": "code",
   "execution_count": 3,
   "id": "7489609f-8586-4c5b-9ba9-54821d874dda",
   "metadata": {},
   "outputs": [],
   "source": [
    "l = [12,23,34,45,17,12]"
   ]
  },
  {
   "cell_type": "code",
   "execution_count": 4,
   "id": "613d791d-bc6a-493a-abe9-3e95d733baa3",
   "metadata": {},
   "outputs": [
    {
     "name": "stdout",
     "output_type": "stream",
     "text": [
      "[12, 23, 34, 45, 17, 12]\n"
     ]
    }
   ],
   "source": [
    "print(l)"
   ]
  },
  {
   "cell_type": "code",
   "execution_count": 6,
   "id": "2fe8f5ce-a685-46ef-8fb8-db9fc4ce8803",
   "metadata": {},
   "outputs": [],
   "source": [
    "l = [12,23,34,45,17,12,\"Tejas\",True]  # Lits are Hetrogeneous"
   ]
  },
  {
   "cell_type": "code",
   "execution_count": 7,
   "id": "cfc6c48d-9322-4117-84b8-276dcfdca014",
   "metadata": {},
   "outputs": [
    {
     "name": "stdout",
     "output_type": "stream",
     "text": [
      "[12, 23, 34, 45, 17, 12, 'Tejas', True]\n"
     ]
    }
   ],
   "source": [
    "print(l)"
   ]
  },
  {
   "cell_type": "code",
   "execution_count": 9,
   "id": "cb123768-84d8-42c2-b4fe-652c8dd9a936",
   "metadata": {},
   "outputs": [
    {
     "data": {
      "text/plain": [
       "12"
      ]
     },
     "execution_count": 9,
     "metadata": {},
     "output_type": "execute_result"
    }
   ],
   "source": [
    "# access the Data\n",
    "\n",
    "l[0] # Using Index"
   ]
  },
  {
   "cell_type": "code",
   "execution_count": 10,
   "id": "2482fc19-aa9b-409c-9a38-16e3fec8d3bb",
   "metadata": {},
   "outputs": [
    {
     "data": {
      "text/plain": [
       "12"
      ]
     },
     "execution_count": 10,
     "metadata": {},
     "output_type": "execute_result"
    }
   ],
   "source": [
    "l[5]"
   ]
  },
  {
   "cell_type": "code",
   "execution_count": 11,
   "id": "604b9bfa-c621-46c7-9703-a12c854fdaa4",
   "metadata": {},
   "outputs": [
    {
     "data": {
      "text/plain": [
       "True"
      ]
     },
     "execution_count": 11,
     "metadata": {},
     "output_type": "execute_result"
    }
   ],
   "source": [
    "l[-1]"
   ]
  },
  {
   "cell_type": "code",
   "execution_count": 13,
   "id": "58a238b1-492d-4e6f-bb0a-3203c5859f09",
   "metadata": {},
   "outputs": [
    {
     "name": "stdout",
     "output_type": "stream",
     "text": [
      "[12, 23, 34, 45, 17, 12, 'Tejas', 57]\n"
     ]
    }
   ],
   "source": [
    "l[-1] = 57\n",
    "print(l)"
   ]
  },
  {
   "cell_type": "code",
   "execution_count": 14,
   "id": "080dd09d-bc8a-4dd6-b734-16a10b8dc928",
   "metadata": {},
   "outputs": [
    {
     "data": {
      "text/plain": [
       "[12, 23, 34, 45, 17, 12, 23, 57]"
      ]
     },
     "execution_count": 14,
     "metadata": {},
     "output_type": "execute_result"
    }
   ],
   "source": [
    "l[-2] = 23\n",
    "l"
   ]
  },
  {
   "cell_type": "markdown",
   "id": "484b80ae-4952-4f09-83e4-0826a6456f34",
   "metadata": {},
   "source": [
    "#### List Slicing"
   ]
  },
  {
   "cell_type": "code",
   "execution_count": 16,
   "id": "623431dc-351e-41db-b918-6d292ebcc65f",
   "metadata": {},
   "outputs": [
    {
     "data": {
      "text/plain": [
       "[34, 45, 17, 12]"
      ]
     },
     "execution_count": 16,
     "metadata": {},
     "output_type": "execute_result"
    }
   ],
   "source": [
    "l[2:6]"
   ]
  },
  {
   "cell_type": "code",
   "execution_count": 17,
   "id": "c69120b1-7ef0-45d3-8648-a58388808669",
   "metadata": {},
   "outputs": [
    {
     "data": {
      "text/plain": [
       "[34, 45, 17, 12]"
      ]
     },
     "execution_count": 17,
     "metadata": {},
     "output_type": "execute_result"
    }
   ],
   "source": [
    "x = l[2:6]\n",
    "x"
   ]
  },
  {
   "cell_type": "code",
   "execution_count": 18,
   "id": "b1a09ee4-8854-4618-86a4-aba6d1cba8d3",
   "metadata": {},
   "outputs": [
    {
     "data": {
      "text/plain": [
       "[34, 45, 17, 12, 23, 57]"
      ]
     },
     "execution_count": 18,
     "metadata": {},
     "output_type": "execute_result"
    }
   ],
   "source": [
    "l[2:]"
   ]
  },
  {
   "cell_type": "code",
   "execution_count": 19,
   "id": "3f25aeb4-1b94-48e2-b993-0dfb3d809e8b",
   "metadata": {},
   "outputs": [
    {
     "data": {
      "text/plain": [
       "[12, 23, 34, 45, 17, 12]"
      ]
     },
     "execution_count": 19,
     "metadata": {},
     "output_type": "execute_result"
    }
   ],
   "source": [
    "l[:-2]"
   ]
  },
  {
   "cell_type": "code",
   "execution_count": 20,
   "id": "8310f3fa-7932-4679-930c-abd027471799",
   "metadata": {},
   "outputs": [
    {
     "data": {
      "text/plain": [
       "[12, 23, 34, 45, 17, 12, 23, 57]"
      ]
     },
     "execution_count": 20,
     "metadata": {},
     "output_type": "execute_result"
    }
   ],
   "source": [
    "l"
   ]
  },
  {
   "cell_type": "code",
   "execution_count": 22,
   "id": "afcf61cd-f5c6-4e18-9a5c-945a29bffdb4",
   "metadata": {},
   "outputs": [
    {
     "data": {
      "text/plain": [
       "[23, 45]"
      ]
     },
     "execution_count": 22,
     "metadata": {},
     "output_type": "execute_result"
    }
   ],
   "source": [
    "l[1:-3:2]"
   ]
  },
  {
   "cell_type": "code",
   "execution_count": 24,
   "id": "2f5efd9d-5b6b-43e6-9fe0-a45c3c3017f8",
   "metadata": {},
   "outputs": [
    {
     "data": {
      "text/plain": [
       "[12, 34, 17, 23]"
      ]
     },
     "execution_count": 24,
     "metadata": {},
     "output_type": "execute_result"
    }
   ],
   "source": [
    "l[: :2]"
   ]
  },
  {
   "cell_type": "code",
   "execution_count": 25,
   "id": "aa327d61-d52b-4ea4-b8e4-cf9d4dac68db",
   "metadata": {},
   "outputs": [
    {
     "data": {
      "text/plain": [
       "[12, 23, 34, 45, 17, 12, 23, 57]"
      ]
     },
     "execution_count": 25,
     "metadata": {},
     "output_type": "execute_result"
    }
   ],
   "source": [
    "l"
   ]
  },
  {
   "cell_type": "code",
   "execution_count": 28,
   "id": "cee44173-abd5-41d8-a620-7aa814ae5e07",
   "metadata": {},
   "outputs": [
    {
     "data": {
      "text/plain": [
       "[12, 45, 67, 82, 17, 12, 23, 57]"
      ]
     },
     "execution_count": 28,
     "metadata": {},
     "output_type": "execute_result"
    }
   ],
   "source": [
    "l[1:4] = [45,67,82]\n",
    "l"
   ]
  },
  {
   "cell_type": "code",
   "execution_count": 29,
   "id": "6c52f54e-e2e2-442c-ba81-12a25b1c0383",
   "metadata": {},
   "outputs": [],
   "source": [
    "# Delete the data"
   ]
  },
  {
   "cell_type": "code",
   "execution_count": 33,
   "id": "d403ef85-4f89-41ab-a9c3-58aa52186147",
   "metadata": {},
   "outputs": [
    {
     "data": {
      "text/plain": [
       "[12, 17, 12, 23, 57]"
      ]
     },
     "execution_count": 33,
     "metadata": {},
     "output_type": "execute_result"
    }
   ],
   "source": [
    "del l[1]\n",
    "l"
   ]
  },
  {
   "cell_type": "code",
   "execution_count": 34,
   "id": "5807b0b9-165d-4237-a689-f23bdf8dbf8c",
   "metadata": {},
   "outputs": [],
   "source": [
    "num = [12, 17, 12, 23, 57]\n",
    "del num"
   ]
  },
  {
   "cell_type": "code",
   "execution_count": 35,
   "id": "e35ac010-3fb1-49cf-a96a-90d5fae7afb1",
   "metadata": {},
   "outputs": [
    {
     "data": {
      "text/plain": [
       "[12, 17, 12, 23, 57]"
      ]
     },
     "execution_count": 35,
     "metadata": {},
     "output_type": "execute_result"
    }
   ],
   "source": [
    "# IN Operator\n",
    "l"
   ]
  },
  {
   "cell_type": "code",
   "execution_count": 36,
   "id": "3c31e031-4065-4a91-8d3b-04bdbd59e7fd",
   "metadata": {},
   "outputs": [
    {
     "data": {
      "text/plain": [
       "True"
      ]
     },
     "execution_count": 36,
     "metadata": {},
     "output_type": "execute_result"
    }
   ],
   "source": [
    "12 in l"
   ]
  },
  {
   "cell_type": "code",
   "execution_count": 37,
   "id": "2a346f27-9616-4990-9496-acaedf9991c6",
   "metadata": {},
   "outputs": [
    {
     "data": {
      "text/plain": [
       "[12, 17, 12, 23, 57, 12, 17, 12, 23, 57]"
      ]
     },
     "execution_count": 37,
     "metadata": {},
     "output_type": "execute_result"
    }
   ],
   "source": [
    "l * 2"
   ]
  },
  {
   "cell_type": "code",
   "execution_count": 38,
   "id": "92a294b0-2746-4e8c-804f-e646cc84844b",
   "metadata": {},
   "outputs": [
    {
     "data": {
      "text/plain": [
       "[12, 17, 12, 23, 57, 12, 56]"
      ]
     },
     "execution_count": 38,
     "metadata": {},
     "output_type": "execute_result"
    }
   ],
   "source": [
    "l + [12,56]"
   ]
  },
  {
   "cell_type": "code",
   "execution_count": 39,
   "id": "f9228e9c-8ce4-4829-9e28-8db84bddf104",
   "metadata": {},
   "outputs": [
    {
     "data": {
      "text/plain": [
       "[12, 17, 12, 23, 57, 56, True, 44.33]"
      ]
     },
     "execution_count": 39,
     "metadata": {},
     "output_type": "execute_result"
    }
   ],
   "source": [
    "l1 = [56,True,44.33]\n",
    "l + l1"
   ]
  },
  {
   "cell_type": "code",
   "execution_count": 40,
   "id": "4d940581-90c9-4b6b-b110-09984e3a2865",
   "metadata": {},
   "outputs": [
    {
     "data": {
      "text/plain": [
       "[12, 17, 12, 23, 57]"
      ]
     },
     "execution_count": 40,
     "metadata": {},
     "output_type": "execute_result"
    }
   ],
   "source": [
    "l"
   ]
  },
  {
   "cell_type": "code",
   "execution_count": 42,
   "id": "58e4826c-c8ab-42b6-b579-1ff4bb8efb6f",
   "metadata": {},
   "outputs": [
    {
     "name": "stdout",
     "output_type": "stream",
     "text": [
      "144 289 144 529 3249 "
     ]
    }
   ],
   "source": [
    "for n in l:\n",
    "    print(n * n, end = \" \")"
   ]
  },
  {
   "cell_type": "code",
   "execution_count": 48,
   "id": "fe85505e-91cf-4319-88ec-2e7a675c77d7",
   "metadata": {},
   "outputs": [
    {
     "name": "stdout",
     "output_type": "stream",
     "text": [
      "17\n",
      "23\n",
      "57\n"
     ]
    }
   ],
   "source": [
    "# write a program to print odd numbers in a list\n",
    "for n in l:\n",
    "    if (n % 2 != 0):\n",
    "       print(n)"
   ]
  },
  {
   "cell_type": "markdown",
   "id": "605cc659-ed44-4cfc-adcb-6aec40c9a972",
   "metadata": {},
   "source": [
    "### List Comprehension"
   ]
  },
  {
   "cell_type": "code",
   "execution_count": 49,
   "id": "3a84f0c0-161b-4940-9468-1eff676c5c25",
   "metadata": {},
   "outputs": [
    {
     "data": {
      "text/plain": [
       "[12, 17, 12, 23, 57]"
      ]
     },
     "execution_count": 49,
     "metadata": {},
     "output_type": "execute_result"
    }
   ],
   "source": [
    "l"
   ]
  },
  {
   "cell_type": "code",
   "execution_count": 50,
   "id": "7336d8fb-da53-4213-9dc0-7d323dda0b97",
   "metadata": {},
   "outputs": [],
   "source": [
    "# Map  # "
   ]
  },
  {
   "cell_type": "code",
   "execution_count": 51,
   "id": "1caebeb2-97e2-4f99-8c32-ed43d601b071",
   "metadata": {},
   "outputs": [],
   "source": [
    "a = [n/2 for n in l ]"
   ]
  },
  {
   "cell_type": "code",
   "execution_count": 52,
   "id": "4dc605aa-c332-4d28-96b5-126cab74bd70",
   "metadata": {},
   "outputs": [
    {
     "data": {
      "text/plain": [
       "[6.0, 8.5, 6.0, 11.5, 28.5]"
      ]
     },
     "execution_count": 52,
     "metadata": {},
     "output_type": "execute_result"
    }
   ],
   "source": [
    "a"
   ]
  },
  {
   "cell_type": "code",
   "execution_count": 53,
   "id": "2af8e785-f769-4cb7-9ffe-e21d04db1dac",
   "metadata": {},
   "outputs": [
    {
     "data": {
      "text/plain": [
       "list"
      ]
     },
     "execution_count": 53,
     "metadata": {},
     "output_type": "execute_result"
    }
   ],
   "source": [
    "type(a)"
   ]
  },
  {
   "cell_type": "code",
   "execution_count": 54,
   "id": "78f7357e-a060-4074-bfc2-2c9d991e6438",
   "metadata": {},
   "outputs": [],
   "source": [
    "b = [n**2 for n in l ]"
   ]
  },
  {
   "cell_type": "code",
   "execution_count": 55,
   "id": "5bde7739-8ee9-4f37-adb8-c59020629fa4",
   "metadata": {},
   "outputs": [
    {
     "data": {
      "text/plain": [
       "[144, 289, 144, 529, 3249]"
      ]
     },
     "execution_count": 55,
     "metadata": {},
     "output_type": "execute_result"
    }
   ],
   "source": [
    "b"
   ]
  },
  {
   "cell_type": "code",
   "execution_count": 56,
   "id": "4d3a3889-0e5a-47e7-9ed0-61e379285a48",
   "metadata": {},
   "outputs": [
    {
     "data": {
      "text/plain": [
       "[12, 17, 12, 23, 57]"
      ]
     },
     "execution_count": 56,
     "metadata": {},
     "output_type": "execute_result"
    }
   ],
   "source": [
    "# Filtering\n",
    "\n",
    "l"
   ]
  },
  {
   "cell_type": "code",
   "execution_count": 57,
   "id": "db7dcfb8-4e9e-4fae-bce0-5fe5cfe5bd86",
   "metadata": {},
   "outputs": [
    {
     "data": {
      "text/plain": [
       "[False, False, False, False, True]"
      ]
     },
     "execution_count": 57,
     "metadata": {},
     "output_type": "execute_result"
    }
   ],
   "source": [
    "b = [n>40 for n in l ]\n",
    "b"
   ]
  },
  {
   "cell_type": "code",
   "execution_count": 59,
   "id": "ad5d26f2-5935-475f-8664-0396e24d1c17",
   "metadata": {},
   "outputs": [
    {
     "data": {
      "text/plain": [
       "[17, 23, 57]"
      ]
     },
     "execution_count": 59,
     "metadata": {},
     "output_type": "execute_result"
    }
   ],
   "source": [
    "b = [n for n in l if n > 15]\n",
    "b"
   ]
  },
  {
   "cell_type": "code",
   "execution_count": 63,
   "id": "76e05704-6a8a-45c4-906d-a3ac73dbf6f8",
   "metadata": {},
   "outputs": [
    {
     "data": {
      "text/plain": [
       "[17, 23, 57]"
      ]
     },
     "execution_count": 63,
     "metadata": {},
     "output_type": "execute_result"
    }
   ],
   "source": [
    "b = [n for n in l if n % 2 == 1]\n",
    "b"
   ]
  },
  {
   "cell_type": "code",
   "execution_count": 64,
   "id": "6f5974d6-acec-435d-a082-6e09f9944b19",
   "metadata": {},
   "outputs": [],
   "source": [
    "names = [\"Karan\",\"Sakshi\",\"Tanvi\",\"Aryan\",\"Tanvi\",\"Tejal\",\"Alpit\",\"Tejas\",\"Siddhi\",\"Sayali\"]\n"
   ]
  },
  {
   "cell_type": "code",
   "execution_count": 75,
   "id": "9cdc5b4d-3921-413e-87c5-17c48b3506d4",
   "metadata": {},
   "outputs": [
    {
     "data": {
      "text/plain": [
       "['Tanvi', 'Tanvi', 'Tejal', 'Tejas']"
      ]
     },
     "execution_count": 75,
     "metadata": {},
     "output_type": "execute_result"
    }
   ],
   "source": [
    "# List containing names which starts with \"T\"\n",
    "\n",
    "[n for n in names if n.startswith ('T')]\n"
   ]
  },
  {
   "cell_type": "code",
   "execution_count": 87,
   "id": "b235bfc9-2248-4177-836e-1e31d89c25d3",
   "metadata": {},
   "outputs": [
    {
     "data": {
      "text/plain": [
       "['KARAN',\n",
       " 'SAKSHI',\n",
       " 'TANVI',\n",
       " 'ARYAN',\n",
       " 'TANVI',\n",
       " 'TEJAL',\n",
       " 'ALPIT',\n",
       " 'TEJAS',\n",
       " 'SIDDHI',\n",
       " 'SAYALI']"
      ]
     },
     "execution_count": 87,
     "metadata": {},
     "output_type": "execute_result"
    }
   ],
   "source": [
    "# TO convert all the names in upper case\n",
    "[n.upper() for n in names]"
   ]
  },
  {
   "cell_type": "markdown",
   "id": "60c1637c-f82b-4a67-8ad7-e2f18abeedc2",
   "metadata": {},
   "source": [
    "#### Empty List"
   ]
  },
  {
   "cell_type": "code",
   "execution_count": 89,
   "id": "83bb3178-5eb7-4ebd-a296-b183d93a34df",
   "metadata": {},
   "outputs": [
    {
     "data": {
      "text/plain": [
       "list"
      ]
     },
     "execution_count": 89,
     "metadata": {},
     "output_type": "execute_result"
    }
   ],
   "source": [
    "e = []\n",
    "type(e)"
   ]
  },
  {
   "cell_type": "code",
   "execution_count": 90,
   "id": "d95eb194-66ed-4f26-80e8-947629e9d7ee",
   "metadata": {},
   "outputs": [
    {
     "data": {
      "text/plain": [
       "[4]"
      ]
     },
     "execution_count": 90,
     "metadata": {},
     "output_type": "execute_result"
    }
   ],
   "source": [
    "e = e + [4]\n",
    "e"
   ]
  },
  {
   "cell_type": "markdown",
   "id": "f7b42e44-6818-454e-9640-c3bf1399131a",
   "metadata": {},
   "source": [
    "### list Decomposition"
   ]
  },
  {
   "cell_type": "code",
   "execution_count": 91,
   "id": "34f95066-70cf-469f-94ec-8d3c0f56914c",
   "metadata": {},
   "outputs": [],
   "source": [
    "l1 = [34,56,78]"
   ]
  },
  {
   "cell_type": "code",
   "execution_count": 92,
   "id": "84015480-1e09-44ac-b699-18a657362285",
   "metadata": {},
   "outputs": [],
   "source": [
    "x,y,z = l1"
   ]
  },
  {
   "cell_type": "code",
   "execution_count": 93,
   "id": "b41ccc22-a2f9-4a2f-8d9f-f3add86fedbe",
   "metadata": {},
   "outputs": [
    {
     "data": {
      "text/plain": [
       "34"
      ]
     },
     "execution_count": 93,
     "metadata": {},
     "output_type": "execute_result"
    }
   ],
   "source": [
    "x"
   ]
  },
  {
   "cell_type": "code",
   "execution_count": 94,
   "id": "df7bd80c-55d9-4cd6-a9de-0aa60ad8deaa",
   "metadata": {},
   "outputs": [
    {
     "data": {
      "text/plain": [
       "56"
      ]
     },
     "execution_count": 94,
     "metadata": {},
     "output_type": "execute_result"
    }
   ],
   "source": [
    "y"
   ]
  },
  {
   "cell_type": "code",
   "execution_count": 95,
   "id": "7bb54d07-ef8b-4d7f-bc0b-2232b2313f23",
   "metadata": {},
   "outputs": [
    {
     "data": {
      "text/plain": [
       "78"
      ]
     },
     "execution_count": 95,
     "metadata": {},
     "output_type": "execute_result"
    }
   ],
   "source": [
    "z"
   ]
  },
  {
   "cell_type": "markdown",
   "id": "341dca91-fef4-47a3-b10b-1c4270b31fa6",
   "metadata": {},
   "source": [
    "### Functions in a list"
   ]
  },
  {
   "cell_type": "code",
   "execution_count": 96,
   "id": "d5dafff8-7953-418c-b6db-8cb4bb66077c",
   "metadata": {},
   "outputs": [
    {
     "data": {
      "text/plain": [
       "[12, 17, 12, 23, 57]"
      ]
     },
     "execution_count": 96,
     "metadata": {},
     "output_type": "execute_result"
    }
   ],
   "source": [
    "l"
   ]
  },
  {
   "cell_type": "code",
   "execution_count": 97,
   "id": "7416d02a-9c53-4afa-9c4e-54c37cc36f3e",
   "metadata": {},
   "outputs": [
    {
     "data": {
      "text/plain": [
       "5"
      ]
     },
     "execution_count": 97,
     "metadata": {},
     "output_type": "execute_result"
    }
   ],
   "source": [
    "len(l)"
   ]
  },
  {
   "cell_type": "code",
   "execution_count": 98,
   "id": "bb439527-9957-4789-b1bc-b408ad97b749",
   "metadata": {},
   "outputs": [
    {
     "data": {
      "text/plain": [
       "57"
      ]
     },
     "execution_count": 98,
     "metadata": {},
     "output_type": "execute_result"
    }
   ],
   "source": [
    "max(l)"
   ]
  },
  {
   "cell_type": "code",
   "execution_count": 99,
   "id": "35ec5828-9c2b-480e-a7a1-80835551f887",
   "metadata": {},
   "outputs": [
    {
     "data": {
      "text/plain": [
       "12"
      ]
     },
     "execution_count": 99,
     "metadata": {},
     "output_type": "execute_result"
    }
   ],
   "source": [
    "min(l)"
   ]
  },
  {
   "cell_type": "code",
   "execution_count": 100,
   "id": "a87cc84c-9875-4f09-9ff7-315791a9d446",
   "metadata": {},
   "outputs": [
    {
     "data": {
      "text/plain": [
       "121"
      ]
     },
     "execution_count": 100,
     "metadata": {},
     "output_type": "execute_result"
    }
   ],
   "source": [
    "sum(l)"
   ]
  },
  {
   "cell_type": "code",
   "execution_count": 101,
   "id": "cb1b96cb-3a31-48f5-92e6-848f9191067a",
   "metadata": {},
   "outputs": [
    {
     "data": {
      "text/plain": [
       "[12, 12, 17, 23, 57]"
      ]
     },
     "execution_count": 101,
     "metadata": {},
     "output_type": "execute_result"
    }
   ],
   "source": [
    "sorted(l)"
   ]
  },
  {
   "cell_type": "code",
   "execution_count": 102,
   "id": "045ba4e8-8766-4276-9ac2-511dc3ab8b98",
   "metadata": {},
   "outputs": [
    {
     "data": {
      "text/plain": [
       "[57, 23, 17, 12, 12]"
      ]
     },
     "execution_count": 102,
     "metadata": {},
     "output_type": "execute_result"
    }
   ],
   "source": [
    "sorted(l, reverse = True)"
   ]
  },
  {
   "cell_type": "code",
   "execution_count": 106,
   "id": "b769ad38-b0b8-444d-81e2-7ceacadd48e0",
   "metadata": {},
   "outputs": [],
   "source": [
    "name = \"Tejas\"\n",
    "list =(name)"
   ]
  },
  {
   "cell_type": "markdown",
   "id": "97558e51-dfdf-42bb-ad2f-b3166bbe16a7",
   "metadata": {},
   "source": [
    "### Methods on list"
   ]
  },
  {
   "cell_type": "code",
   "execution_count": 107,
   "id": "8d72e76c-e81e-4c4e-85b2-5d88eddb277f",
   "metadata": {},
   "outputs": [
    {
     "data": {
      "text/plain": [
       "[12, 17, 12, 23, 57]"
      ]
     },
     "execution_count": 107,
     "metadata": {},
     "output_type": "execute_result"
    }
   ],
   "source": [
    "l"
   ]
  },
  {
   "cell_type": "code",
   "execution_count": 108,
   "id": "6658a813-08f7-4bbd-9126-163a8b3434fc",
   "metadata": {},
   "outputs": [
    {
     "data": {
      "text/plain": [
       "[12, 17, 12, 23, 57, 100]"
      ]
     },
     "execution_count": 108,
     "metadata": {},
     "output_type": "execute_result"
    }
   ],
   "source": [
    "l.append(100)   # Adding at the End\n",
    "l"
   ]
  },
  {
   "cell_type": "markdown",
   "id": "138a6ad4-d2bf-4b08-8876-5c9284c9e979",
   "metadata": {},
   "source": [
    "#### Append And Extend"
   ]
  },
  {
   "cell_type": "code",
   "execution_count": 109,
   "id": "2f91cf14-03df-440f-b3fd-9bae077ca214",
   "metadata": {},
   "outputs": [],
   "source": [
    "x = [12,23,34]\n",
    "y = [12,23,34]\n"
   ]
  },
  {
   "cell_type": "code",
   "execution_count": 110,
   "id": "45d86b0c-52d1-4204-b40b-1e8d8e70b713",
   "metadata": {},
   "outputs": [],
   "source": [
    "x.append([11,22])\n",
    "y.extend([11,22])"
   ]
  },
  {
   "cell_type": "code",
   "execution_count": 111,
   "id": "ef4d078c-8be1-4880-96c0-aca351d09579",
   "metadata": {},
   "outputs": [
    {
     "name": "stdout",
     "output_type": "stream",
     "text": [
      "[12, 23, 34, [11, 22]]\n",
      "[12, 23, 34, 11, 22]\n"
     ]
    }
   ],
   "source": [
    "print(x)\n",
    "print(y)"
   ]
  },
  {
   "cell_type": "code",
   "execution_count": 112,
   "id": "142fb2d8-aaef-4bfb-89c3-c1c6c99cfd4a",
   "metadata": {},
   "outputs": [
    {
     "data": {
      "text/plain": [
       "[11, 22]"
      ]
     },
     "execution_count": 112,
     "metadata": {},
     "output_type": "execute_result"
    }
   ],
   "source": [
    "x[-1]"
   ]
  },
  {
   "cell_type": "code",
   "execution_count": 113,
   "id": "77ba9d4a-8a90-40c2-926c-66c1fdaf2358",
   "metadata": {},
   "outputs": [
    {
     "data": {
      "text/plain": [
       "22"
      ]
     },
     "execution_count": 113,
     "metadata": {},
     "output_type": "execute_result"
    }
   ],
   "source": [
    "x[-1][-1]"
   ]
  },
  {
   "cell_type": "markdown",
   "id": "b90b9725-19dd-4f44-a3d5-f19c8e183bf8",
   "metadata": {},
   "source": [
    "#### Insert"
   ]
  },
  {
   "cell_type": "code",
   "execution_count": 114,
   "id": "15fc8e32-7394-4d4c-be9a-110b7cf3370e",
   "metadata": {},
   "outputs": [
    {
     "data": {
      "text/plain": [
       "[12, 17, 12, 23, 57, 100]"
      ]
     },
     "execution_count": 114,
     "metadata": {},
     "output_type": "execute_result"
    }
   ],
   "source": [
    "l"
   ]
  },
  {
   "cell_type": "code",
   "execution_count": 115,
   "id": "6e28dfc7-4ff4-40e1-ba8d-3877bc6adc35",
   "metadata": {},
   "outputs": [
    {
     "data": {
      "text/plain": [
       "[12, 17, 78, 12, 23, 57, 100]"
      ]
     },
     "execution_count": 115,
     "metadata": {},
     "output_type": "execute_result"
    }
   ],
   "source": [
    "l.insert(2,78)\n",
    "l"
   ]
  },
  {
   "cell_type": "markdown",
   "id": "bc6b3d9f-648a-4d35-b6c1-391d93c7764a",
   "metadata": {},
   "source": [
    "#### Remove"
   ]
  },
  {
   "cell_type": "code",
   "execution_count": 116,
   "id": "c5a126ef-c21e-498c-9994-1b3c92891cea",
   "metadata": {},
   "outputs": [
    {
     "data": {
      "text/plain": [
       "[12, 17, 12, 23, 57, 100]"
      ]
     },
     "execution_count": 116,
     "metadata": {},
     "output_type": "execute_result"
    }
   ],
   "source": [
    "l.remove(78)\n",
    "l"
   ]
  },
  {
   "cell_type": "code",
   "execution_count": 118,
   "id": "65465d04-1a1d-4093-a2a6-413538b69695",
   "metadata": {},
   "outputs": [
    {
     "data": {
      "text/plain": [
       "4"
      ]
     },
     "execution_count": 118,
     "metadata": {},
     "output_type": "execute_result"
    }
   ],
   "source": [
    "l.index(57)\n"
   ]
  },
  {
   "cell_type": "code",
   "execution_count": 119,
   "id": "5fa90853-b82b-4164-bb27-f1fb295bbd93",
   "metadata": {},
   "outputs": [
    {
     "data": {
      "text/plain": [
       "2"
      ]
     },
     "execution_count": 119,
     "metadata": {},
     "output_type": "execute_result"
    }
   ],
   "source": [
    "l.count(12)"
   ]
  },
  {
   "cell_type": "code",
   "execution_count": 120,
   "id": "3ab0dcec-291b-4473-a365-92d33bd4552b",
   "metadata": {},
   "outputs": [
    {
     "data": {
      "text/plain": [
       "[12, 17, 12, 23, 57, 100]"
      ]
     },
     "execution_count": 120,
     "metadata": {},
     "output_type": "execute_result"
    }
   ],
   "source": [
    "l"
   ]
  },
  {
   "cell_type": "code",
   "execution_count": 121,
   "id": "719c7804-b3ce-4801-8fd7-23af3936f0bc",
   "metadata": {},
   "outputs": [
    {
     "data": {
      "text/plain": [
       "100"
      ]
     },
     "execution_count": 121,
     "metadata": {},
     "output_type": "execute_result"
    }
   ],
   "source": [
    "# Delete / Pop\n",
    "\n",
    "l.pop()"
   ]
  },
  {
   "cell_type": "code",
   "execution_count": 122,
   "id": "b18ac774-c63e-4e6f-8117-4f4dc1c28828",
   "metadata": {},
   "outputs": [
    {
     "data": {
      "text/plain": [
       "[12, 17, 12, 23, 57]"
      ]
     },
     "execution_count": 122,
     "metadata": {},
     "output_type": "execute_result"
    }
   ],
   "source": [
    "l"
   ]
  },
  {
   "cell_type": "code",
   "execution_count": 123,
   "id": "8065660e-0372-44af-9e26-cc4e027d80b8",
   "metadata": {},
   "outputs": [
    {
     "data": {
      "text/plain": [
       "23"
      ]
     },
     "execution_count": 123,
     "metadata": {},
     "output_type": "execute_result"
    }
   ],
   "source": [
    "l.pop(-2)"
   ]
  },
  {
   "cell_type": "code",
   "execution_count": 124,
   "id": "fdb538a5-cca5-4c84-bbbd-704bf829e2f0",
   "metadata": {},
   "outputs": [
    {
     "data": {
      "text/plain": [
       "[12, 17, 12, 57]"
      ]
     },
     "execution_count": 124,
     "metadata": {},
     "output_type": "execute_result"
    }
   ],
   "source": [
    "l"
   ]
  },
  {
   "cell_type": "code",
   "execution_count": 125,
   "id": "af32bcb9-574c-47a9-9fbb-da538ae46a85",
   "metadata": {},
   "outputs": [
    {
     "data": {
      "text/plain": [
       "[12, 17, 12, 57, 32, 34, 54, 45, 76, 67, 98, 89]"
      ]
     },
     "execution_count": 125,
     "metadata": {},
     "output_type": "execute_result"
    }
   ],
   "source": [
    "l.extend([32,34,54,45,76,67,98,89])\n",
    "l"
   ]
  },
  {
   "cell_type": "code",
   "execution_count": 126,
   "id": "f39706e0-d7a2-4f29-ad96-69ea3b78384d",
   "metadata": {},
   "outputs": [
    {
     "data": {
      "text/plain": [
       "[12, 17, 12, 57, 32, 34, 54, 45, 76, 67, 98, 89]"
      ]
     },
     "execution_count": 126,
     "metadata": {},
     "output_type": "execute_result"
    }
   ],
   "source": [
    "l"
   ]
  },
  {
   "cell_type": "code",
   "execution_count": 130,
   "id": "f1aadab9-ab3e-40e4-8b5f-fb9a9f576988",
   "metadata": {},
   "outputs": [
    {
     "data": {
      "text/plain": [
       "[89, 98, 67, 76, 45, 54, 34, 32, 57, 12, 17, 12]"
      ]
     },
     "execution_count": 130,
     "metadata": {},
     "output_type": "execute_result"
    }
   ],
   "source": [
    "l.reverse()\n",
    "l"
   ]
  },
  {
   "cell_type": "code",
   "execution_count": 133,
   "id": "79c87266-8cf8-455d-af76-a51e20dec325",
   "metadata": {},
   "outputs": [
    {
     "data": {
      "text/plain": [
       "[12, 12, 17, 32, 34, 45, 54, 57, 67, 76, 89, 98]"
      ]
     },
     "execution_count": 133,
     "metadata": {},
     "output_type": "execute_result"
    }
   ],
   "source": [
    "l.sort()\n",
    "l"
   ]
  },
  {
   "cell_type": "code",
   "execution_count": 6,
   "id": "63e06e15-db5e-42d1-9b29-d3e69ea97782",
   "metadata": {},
   "outputs": [
    {
     "data": {
      "text/plain": [
       "[32, 34, 54, 45, 76, 67, 98, 89]"
      ]
     },
     "execution_count": 6,
     "metadata": {},
     "output_type": "execute_result"
    }
   ],
   "source": [
    "# Iterate over a list print index and the value assigned to it \n",
    "\n",
    "l"
   ]
  },
  {
   "cell_type": "code",
   "execution_count": 5,
   "id": "b69b0c5b-cce5-474f-b1b8-639418c42bb5",
   "metadata": {},
   "outputs": [
    {
     "data": {
      "text/plain": [
       "[32, 34, 54, 45, 76, 67, 98, 89]"
      ]
     },
     "execution_count": 5,
     "metadata": {},
     "output_type": "execute_result"
    }
   ],
   "source": [
    "l = [32,34,54,45,76,67,98,89]\n",
    "l"
   ]
  },
  {
   "cell_type": "code",
   "execution_count": 7,
   "id": "85f823e5-47ab-4895-871f-bebf8bab9ff5",
   "metadata": {},
   "outputs": [
    {
     "name": "stdout",
     "output_type": "stream",
     "text": [
      "0 32\n",
      "1 34\n",
      "2 54\n",
      "3 45\n",
      "4 76\n",
      "5 67\n",
      "6 98\n",
      "7 89\n"
     ]
    }
   ],
   "source": [
    "for n in l:\n",
    "    print(l.index(n),n)"
   ]
  },
  {
   "cell_type": "markdown",
   "id": "b5731742-17ef-45e8-9667-063b7c413138",
   "metadata": {},
   "source": [
    "#### Enumerate"
   ]
  },
  {
   "cell_type": "code",
   "execution_count": 12,
   "id": "6a72bade-8cfd-47be-b9ee-31c235f05e21",
   "metadata": {},
   "outputs": [
    {
     "name": "stdout",
     "output_type": "stream",
     "text": [
      "0 32\n",
      "1 34\n",
      "2 54\n",
      "3 45\n",
      "4 76\n",
      "5 67\n",
      "6 98\n",
      "7 89\n"
     ]
    }
   ],
   "source": [
    "for index, n in enumerate(l):\n",
    "    print(index,n)"
   ]
  },
  {
   "cell_type": "markdown",
   "id": "600e5d23-575b-47e4-a05d-b6e79c2e9f4f",
   "metadata": {},
   "source": [
    "### Shallow Copy"
   ]
  },
  {
   "cell_type": "code",
   "execution_count": 14,
   "id": "b239db2d-3214-483f-89f8-fc69b93577de",
   "metadata": {},
   "outputs": [
    {
     "data": {
      "text/plain": [
       "[34, 45, 56]"
      ]
     },
     "execution_count": 14,
     "metadata": {},
     "output_type": "execute_result"
    }
   ],
   "source": [
    "l1 = [34,45,56]\n",
    "l2 = l1\n",
    "l2"
   ]
  },
  {
   "cell_type": "code",
   "execution_count": 32,
   "id": "b0062ece-5ae8-4796-8a13-3005d11f78ab",
   "metadata": {},
   "outputs": [
    {
     "data": {
      "text/plain": [
       "[34, 45, 56, 2, 100, [12, 34, 1000], 1000, 2]"
      ]
     },
     "execution_count": 32,
     "metadata": {},
     "output_type": "execute_result"
    }
   ],
   "source": [
    "l1.append(2)  # Changes can also occur while chnaging original list\n",
    "l2"
   ]
  },
  {
   "cell_type": "code",
   "execution_count": 33,
   "id": "1bbbf7e0-c99c-47af-9a82-fe3b18555685",
   "metadata": {},
   "outputs": [
    {
     "data": {
      "text/plain": [
       "[34, 45, 56, 2, 100, [12, 34, 1000], 1000, 2]"
      ]
     },
     "execution_count": 33,
     "metadata": {},
     "output_type": "execute_result"
    }
   ],
   "source": [
    "l3 = l1.copy()  # Copy only Original List\n",
    "l3"
   ]
  },
  {
   "cell_type": "code",
   "execution_count": 34,
   "id": "235a5038-c410-440b-b7c2-c1cab05a805f",
   "metadata": {},
   "outputs": [
    {
     "data": {
      "text/plain": [
       "[34, 45, 56, 2, 100, [12, 34, 1000], 1000, 2, 100]"
      ]
     },
     "execution_count": 34,
     "metadata": {},
     "output_type": "execute_result"
    }
   ],
   "source": [
    "l1.append(100)\n",
    "l2"
   ]
  },
  {
   "cell_type": "code",
   "execution_count": 35,
   "id": "24181f95-068f-4369-8755-e7eda11a2e79",
   "metadata": {},
   "outputs": [
    {
     "data": {
      "text/plain": [
       "[34, 45, 56, 2, 100, [12, 34, 1000], 1000, 2]"
      ]
     },
     "execution_count": 35,
     "metadata": {},
     "output_type": "execute_result"
    }
   ],
   "source": [
    "l3"
   ]
  },
  {
   "cell_type": "code",
   "execution_count": 36,
   "id": "f3ea6e7c-0449-4697-90fb-da18135bbc43",
   "metadata": {},
   "outputs": [
    {
     "data": {
      "text/plain": [
       "[34, 45, 56, 2, 100, [12, 34, 1000], 1000, 2, 100]"
      ]
     },
     "execution_count": 36,
     "metadata": {},
     "output_type": "execute_result"
    }
   ],
   "source": [
    "l1"
   ]
  },
  {
   "cell_type": "code",
   "execution_count": 37,
   "id": "c0950a1d-3299-4bdb-b51b-9dcc63977918",
   "metadata": {},
   "outputs": [
    {
     "data": {
      "text/plain": [
       "[34, 45, 56, 2, 100, [12, 34, 1000], 1000, 2, 100]"
      ]
     },
     "execution_count": 37,
     "metadata": {},
     "output_type": "execute_result"
    }
   ],
   "source": [
    "l2"
   ]
  },
  {
   "cell_type": "code",
   "execution_count": 38,
   "id": "4ba2ed1e-f8db-4d06-8d9d-f16341eedf93",
   "metadata": {},
   "outputs": [
    {
     "data": {
      "text/plain": [
       "[34, 45, 56, 2, 100, [12, 34, 1000], 1000, 2]"
      ]
     },
     "execution_count": 38,
     "metadata": {},
     "output_type": "execute_result"
    }
   ],
   "source": [
    "l3"
   ]
  },
  {
   "cell_type": "code",
   "execution_count": 39,
   "id": "a072bfec-d01b-473b-adad-c284860e95a4",
   "metadata": {},
   "outputs": [
    {
     "data": {
      "text/plain": [
       "[34, 45, 56, 2, 100, [12, 34, 1000], 1000, 2, 100, [12, 34]]"
      ]
     },
     "execution_count": 39,
     "metadata": {},
     "output_type": "execute_result"
    }
   ],
   "source": [
    "l1.append([12,34])\n",
    "l1"
   ]
  },
  {
   "cell_type": "code",
   "execution_count": 40,
   "id": "ee43b4ff-9813-47f1-95ea-94b3526ad656",
   "metadata": {},
   "outputs": [],
   "source": [
    "l3 = l1.copy()"
   ]
  },
  {
   "cell_type": "code",
   "execution_count": 42,
   "id": "7759aa16-7904-41ae-8f82-856c631a9c3b",
   "metadata": {},
   "outputs": [
    {
     "data": {
      "text/plain": [
       "[34, 45, 56, 2, 100, [12, 34, 1000], 1000, 2, 100, [12, 34], 1000, 1000]"
      ]
     },
     "execution_count": 42,
     "metadata": {},
     "output_type": "execute_result"
    }
   ],
   "source": [
    "l1.append(1000)\n",
    "l1"
   ]
  },
  {
   "cell_type": "code",
   "execution_count": 43,
   "id": "70d887ae-6d88-46dd-8646-02492a7aaf49",
   "metadata": {},
   "outputs": [
    {
     "data": {
      "text/plain": [
       "[34, 45, 56, 2, 100, [12, 34, 1000], 1000, 2, 100, [12, 34]]"
      ]
     },
     "execution_count": 43,
     "metadata": {},
     "output_type": "execute_result"
    }
   ],
   "source": [
    "l3"
   ]
  },
  {
   "cell_type": "code",
   "execution_count": 53,
   "id": "6bdc45c8-22f4-4cec-9ea3-d3b4c1b5cf57",
   "metadata": {},
   "outputs": [
    {
     "data": {
      "text/plain": [
       "[34, 45, 56, 2, 100, [12, 34, 1000], 1000, 2, 100, [12, 34], 1000, 1000]"
      ]
     },
     "execution_count": 53,
     "metadata": {},
     "output_type": "execute_result"
    }
   ],
   "source": [
    "\n",
    "l1"
   ]
  },
  {
   "cell_type": "code",
   "execution_count": 56,
   "id": "f1728312-d3d9-4d6b-a724-f74b54f46d0a",
   "metadata": {},
   "outputs": [
    {
     "name": "stdout",
     "output_type": "stream",
     "text": [
      "[34, 45, 56, 2, 100, [12, 34, 1000], 1000, 2, 100, [12, 34, 100, 100, 100], 1000, 1000] "
     ]
    }
   ],
   "source": [
    "l1[-3].append(100)\n",
    "print(l1,end = \" \")"
   ]
  },
  {
   "cell_type": "code",
   "execution_count": 48,
   "id": "a009558b-3863-4c32-aae4-5710c5d6dfc9",
   "metadata": {},
   "outputs": [
    {
     "data": {
      "text/plain": [
       "[34, 45, 56, 2, 100, [12, 34, 1000], 1000, 2, 100, [12, 34]]"
      ]
     },
     "execution_count": 48,
     "metadata": {},
     "output_type": "execute_result"
    }
   ],
   "source": [
    "l3"
   ]
  },
  {
   "cell_type": "code",
   "execution_count": 49,
   "id": "64cde6bd-d7e8-43d5-8a25-e8842eb764b7",
   "metadata": {},
   "outputs": [
    {
     "data": {
      "text/plain": [
       "[34, 45, 56, 2, 100, [12, 34, 1000], 1000, 2, 100, [12, 34], 1000, 1000]"
      ]
     },
     "execution_count": 49,
     "metadata": {},
     "output_type": "execute_result"
    }
   ],
   "source": [
    "l1"
   ]
  },
  {
   "cell_type": "markdown",
   "id": "16db07bd-a97f-4128-9446-ff2f53a41325",
   "metadata": {},
   "source": [
    "## Tuple"
   ]
  },
  {
   "cell_type": "code",
   "execution_count": 57,
   "id": "415f204a-9f20-47de-bff4-a4d4e132c6a8",
   "metadata": {},
   "outputs": [],
   "source": [
    "t = (23,45,67,12,78,23)"
   ]
  },
  {
   "cell_type": "code",
   "execution_count": 58,
   "id": "10da767f-ec23-45cf-a4ba-580789457f40",
   "metadata": {},
   "outputs": [
    {
     "data": {
      "text/plain": [
       "(23, 45, 67, 12, 78, 23)"
      ]
     },
     "execution_count": 58,
     "metadata": {},
     "output_type": "execute_result"
    }
   ],
   "source": [
    "t"
   ]
  },
  {
   "cell_type": "code",
   "execution_count": 59,
   "id": "5ff5be7c-5501-4735-be22-93f0555b95ac",
   "metadata": {},
   "outputs": [
    {
     "data": {
      "text/plain": [
       "tuple"
      ]
     },
     "execution_count": 59,
     "metadata": {},
     "output_type": "execute_result"
    }
   ],
   "source": [
    "type(t)"
   ]
  },
  {
   "cell_type": "code",
   "execution_count": 60,
   "id": "28b64a71-181c-4bbe-939b-a30ee7a1e0bf",
   "metadata": {},
   "outputs": [],
   "source": [
    "t1 = (34,56, \"Tejas\")"
   ]
  },
  {
   "cell_type": "code",
   "execution_count": 61,
   "id": "80df4f07-d2f0-468b-9b40-152ae7d01661",
   "metadata": {},
   "outputs": [
    {
     "data": {
      "text/plain": [
       "(34, 56, 'Tejas')"
      ]
     },
     "execution_count": 61,
     "metadata": {},
     "output_type": "execute_result"
    }
   ],
   "source": [
    "t1"
   ]
  },
  {
   "cell_type": "code",
   "execution_count": 62,
   "id": "02dfba88-4437-4657-bff5-f8f1a315c22e",
   "metadata": {},
   "outputs": [
    {
     "data": {
      "text/plain": [
       "45"
      ]
     },
     "execution_count": 62,
     "metadata": {},
     "output_type": "execute_result"
    }
   ],
   "source": [
    "t[1]"
   ]
  },
  {
   "cell_type": "code",
   "execution_count": 64,
   "id": "23c7aea4-0015-476d-af64-39fc60ea5ad4",
   "metadata": {},
   "outputs": [
    {
     "name": "stdout",
     "output_type": "stream",
     "text": [
      "Help on class tuple in module builtins:\n",
      "\n",
      "class tuple(object)\n",
      " |  tuple(iterable=(), /)\n",
      " |  \n",
      " |  Built-in immutable sequence.\n",
      " |  \n",
      " |  If no argument is given, the constructor returns an empty tuple.\n",
      " |  If iterable is specified the tuple is initialized from iterable's items.\n",
      " |  \n",
      " |  If the argument is a tuple, the return value is the same object.\n",
      " |  \n",
      " |  Built-in subclasses:\n",
      " |      asyncgen_hooks\n",
      " |      UnraisableHookArgs\n",
      " |  \n",
      " |  Methods defined here:\n",
      " |  \n",
      " |  __add__(self, value, /)\n",
      " |      Return self+value.\n",
      " |  \n",
      " |  __contains__(self, key, /)\n",
      " |      Return key in self.\n",
      " |  \n",
      " |  __eq__(self, value, /)\n",
      " |      Return self==value.\n",
      " |  \n",
      " |  __ge__(self, value, /)\n",
      " |      Return self>=value.\n",
      " |  \n",
      " |  __getattribute__(self, name, /)\n",
      " |      Return getattr(self, name).\n",
      " |  \n",
      " |  __getitem__(self, key, /)\n",
      " |      Return self[key].\n",
      " |  \n",
      " |  __getnewargs__(self, /)\n",
      " |  \n",
      " |  __gt__(self, value, /)\n",
      " |      Return self>value.\n",
      " |  \n",
      " |  __hash__(self, /)\n",
      " |      Return hash(self).\n",
      " |  \n",
      " |  __iter__(self, /)\n",
      " |      Implement iter(self).\n",
      " |  \n",
      " |  __le__(self, value, /)\n",
      " |      Return self<=value.\n",
      " |  \n",
      " |  __len__(self, /)\n",
      " |      Return len(self).\n",
      " |  \n",
      " |  __lt__(self, value, /)\n",
      " |      Return self<value.\n",
      " |  \n",
      " |  __mul__(self, value, /)\n",
      " |      Return self*value.\n",
      " |  \n",
      " |  __ne__(self, value, /)\n",
      " |      Return self!=value.\n",
      " |  \n",
      " |  __repr__(self, /)\n",
      " |      Return repr(self).\n",
      " |  \n",
      " |  __rmul__(self, value, /)\n",
      " |      Return value*self.\n",
      " |  \n",
      " |  count(self, value, /)\n",
      " |      Return number of occurrences of value.\n",
      " |  \n",
      " |  index(self, value, start=0, stop=9223372036854775807, /)\n",
      " |      Return first index of value.\n",
      " |      \n",
      " |      Raises ValueError if the value is not present.\n",
      " |  \n",
      " |  ----------------------------------------------------------------------\n",
      " |  Class methods defined here:\n",
      " |  \n",
      " |  __class_getitem__(...) from builtins.type\n",
      " |      See PEP 585\n",
      " |  \n",
      " |  ----------------------------------------------------------------------\n",
      " |  Static methods defined here:\n",
      " |  \n",
      " |  __new__(*args, **kwargs) from builtins.type\n",
      " |      Create and return a new object.  See help(type) for accurate signature.\n",
      "\n"
     ]
    }
   ],
   "source": [
    "help(tuple)"
   ]
  },
  {
   "cell_type": "code",
   "execution_count": 65,
   "id": "fcace611-c827-487c-8fea-9525ec99f5c6",
   "metadata": {},
   "outputs": [
    {
     "data": {
      "text/plain": [
       "(34, 56, 'Tejas')"
      ]
     },
     "execution_count": 65,
     "metadata": {},
     "output_type": "execute_result"
    }
   ],
   "source": [
    "t1"
   ]
  },
  {
   "cell_type": "code",
   "execution_count": 66,
   "id": "88655731-4362-4dfc-9600-b62ca9c93a6e",
   "metadata": {},
   "outputs": [
    {
     "data": {
      "text/plain": [
       "[34, 56, 'Tejas']"
      ]
     },
     "execution_count": 66,
     "metadata": {},
     "output_type": "execute_result"
    }
   ],
   "source": [
    "m = list(t1)\n",
    "m"
   ]
  },
  {
   "cell_type": "code",
   "execution_count": 67,
   "id": "e118bd01-2c7d-4604-973c-53fe8c0b53b0",
   "metadata": {},
   "outputs": [
    {
     "data": {
      "text/plain": [
       "(34, 56, 'Tejas')"
      ]
     },
     "execution_count": 67,
     "metadata": {},
     "output_type": "execute_result"
    }
   ],
   "source": [
    "z1 = tuple(m)\n",
    "z1"
   ]
  },
  {
   "cell_type": "markdown",
   "id": "1567c45a-fb0c-4338-abe6-d8e561efe6ed",
   "metadata": {},
   "source": [
    "### Set"
   ]
  },
  {
   "cell_type": "code",
   "execution_count": 76,
   "id": "d2a6e9bd-aff9-4f61-aa8f-14028648f80e",
   "metadata": {},
   "outputs": [
    {
     "data": {
      "text/plain": [
       "{12, 34, 56, 78}"
      ]
     },
     "execution_count": 76,
     "metadata": {},
     "output_type": "execute_result"
    }
   ],
   "source": [
    "s = {12,34,56,78,34}\n",
    "s  # Duplicates Not Allowed"
   ]
  },
  {
   "cell_type": "code",
   "execution_count": 70,
   "id": "84178a32-2c08-4189-a676-f648a93a59a2",
   "metadata": {},
   "outputs": [
    {
     "data": {
      "text/plain": [
       "set"
      ]
     },
     "execution_count": 70,
     "metadata": {},
     "output_type": "execute_result"
    }
   ],
   "source": [
    "type(s)"
   ]
  },
  {
   "cell_type": "code",
   "execution_count": null,
   "id": "5ad82d26-4ae6-4a62-b826-fbb4d7977767",
   "metadata": {},
   "outputs": [],
   "source": [
    "s[2]  # unordered.....will throw error"
   ]
  },
  {
   "cell_type": "code",
   "execution_count": 71,
   "id": "483fb8f5-d0cd-4316-be11-c504ff884a33",
   "metadata": {},
   "outputs": [
    {
     "data": {
      "text/plain": [
       "{12, 34, 45, 56, 78}"
      ]
     },
     "execution_count": 71,
     "metadata": {},
     "output_type": "execute_result"
    }
   ],
   "source": [
    "s.add(45)\n",
    "s"
   ]
  },
  {
   "cell_type": "code",
   "execution_count": 74,
   "id": "8d5ad826-4a69-499f-a0f3-7ccd94a99812",
   "metadata": {},
   "outputs": [
    {
     "data": {
      "text/plain": [
       "{12, 34, 45, 56, 78, 'A', 'T'}"
      ]
     },
     "execution_count": 74,
     "metadata": {},
     "output_type": "execute_result"
    }
   ],
   "source": [
    "s.add(\"T\")\n",
    "s"
   ]
  },
  {
   "cell_type": "code",
   "execution_count": 75,
   "id": "540e1027-5311-446b-a08a-95dd2af88748",
   "metadata": {},
   "outputs": [
    {
     "data": {
      "text/plain": [
       "frozenset({12, 34, 45, 56, 78, 'A', 'T'})"
      ]
     },
     "execution_count": 75,
     "metadata": {},
     "output_type": "execute_result"
    }
   ],
   "source": [
    "s1 = frozenset(s)\n",
    "s1"
   ]
  },
  {
   "cell_type": "markdown",
   "id": "c44ef1c7-65d8-4164-89ae-0c3af57b67c0",
   "metadata": {},
   "source": [
    "### Dictionary"
   ]
  },
  {
   "cell_type": "code",
   "execution_count": 78,
   "id": "ac63872b-7e46-404c-bef9-12b470375387",
   "metadata": {},
   "outputs": [
    {
     "data": {
      "text/plain": [
       "{1: 67, 2: 89, 3: 75, 4: 72, 7: 67}"
      ]
     },
     "execution_count": 78,
     "metadata": {},
     "output_type": "execute_result"
    }
   ],
   "source": [
    "d = {1:67,2:89,3:75,4:72,7:67}\n",
    "d"
   ]
  },
  {
   "cell_type": "code",
   "execution_count": 79,
   "id": "1426b840-f008-4b0b-96f3-a10ac420c970",
   "metadata": {},
   "outputs": [
    {
     "data": {
      "text/plain": [
       "67"
      ]
     },
     "execution_count": 79,
     "metadata": {},
     "output_type": "execute_result"
    }
   ],
   "source": [
    "d[7]"
   ]
  },
  {
   "cell_type": "code",
   "execution_count": 81,
   "id": "dbfe8a89-04b6-4889-9ce4-fb23fdaeac49",
   "metadata": {},
   "outputs": [
    {
     "data": {
      "text/plain": [
       "{1: 37, 2: 89, 3: 75, 4: 72, 7: 67}"
      ]
     },
     "execution_count": 81,
     "metadata": {},
     "output_type": "execute_result"
    }
   ],
   "source": [
    "d1 = {1:67,2:89,3:75,4:72,7:67,1:37}\n",
    "d1       # Values can repeat but the keys cannot repeat"
   ]
  },
  {
   "cell_type": "code",
   "execution_count": 84,
   "id": "ae7ed3b9-d83a-49ce-87d9-19c07cbea96e",
   "metadata": {},
   "outputs": [
    {
     "data": {
      "text/plain": [
       "{1: 67, 2: 89, 3: 100, 4: 72, 7: 67}"
      ]
     },
     "execution_count": 84,
     "metadata": {},
     "output_type": "execute_result"
    }
   ],
   "source": [
    "d[3] = 100\n",
    "d  # Dictionary are mutable"
   ]
  },
  {
   "cell_type": "code",
   "execution_count": 85,
   "id": "3161cae5-12b3-4088-abd9-103dd38bf3e2",
   "metadata": {},
   "outputs": [
    {
     "data": {
      "text/plain": [
       "{1: 67, 2: 89, 3: 100, 4: 72, 7: 67, 10: 78}"
      ]
     },
     "execution_count": 85,
     "metadata": {},
     "output_type": "execute_result"
    }
   ],
   "source": [
    "d[10] = 78\n",
    "d"
   ]
  },
  {
   "cell_type": "code",
   "execution_count": 86,
   "id": "84feb4cf-af78-490e-82fc-e78e87304635",
   "metadata": {},
   "outputs": [
    {
     "data": {
      "text/plain": [
       "dict_keys([1, 2, 3, 4, 7, 10])"
      ]
     },
     "execution_count": 86,
     "metadata": {},
     "output_type": "execute_result"
    }
   ],
   "source": [
    "d.keys()"
   ]
  },
  {
   "cell_type": "code",
   "execution_count": 87,
   "id": "bf071de7-97d1-4d87-a96c-b9907ff232f8",
   "metadata": {},
   "outputs": [
    {
     "data": {
      "text/plain": [
       "dict_values([67, 89, 100, 72, 67, 78])"
      ]
     },
     "execution_count": 87,
     "metadata": {},
     "output_type": "execute_result"
    }
   ],
   "source": [
    "d.values()"
   ]
  },
  {
   "cell_type": "code",
   "execution_count": null,
   "id": "887bd363-fae6-49d7-8b14-e4cda55d0432",
   "metadata": {},
   "outputs": [],
   "source": []
  }
 ],
 "metadata": {
  "kernelspec": {
   "display_name": "Python 3 (ipykernel)",
   "language": "python",
   "name": "python3"
  },
  "language_info": {
   "codemirror_mode": {
    "name": "ipython",
    "version": 3
   },
   "file_extension": ".py",
   "mimetype": "text/x-python",
   "name": "python",
   "nbconvert_exporter": "python",
   "pygments_lexer": "ipython3",
   "version": "3.11.7"
  }
 },
 "nbformat": 4,
 "nbformat_minor": 5
}
