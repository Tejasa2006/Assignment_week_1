{
 "cells": [
  {
   "cell_type": "code",
   "execution_count": 2,
   "id": "1ec24b85-13cc-4608-aa33-6a0406ff1f1a",
   "metadata": {},
   "outputs": [
    {
     "name": "stdout",
     "output_type": "stream",
     "text": [
      " I like 'python' programming\n"
     ]
    }
   ],
   "source": [
    "sent = \" I like 'python' programming\"\n",
    "print(sent)"
   ]
  },
  {
   "cell_type": "code",
   "execution_count": 3,
   "id": "eb26f00b-753d-43f3-808b-849d3d452ff4",
   "metadata": {},
   "outputs": [],
   "source": [
    "num1, num2, num3 = 42, 45, 'Tejas'"
   ]
  },
  {
   "cell_type": "code",
   "execution_count": 4,
   "id": "1ed2881d-6d3a-46fa-a0a4-0462938eb8a9",
   "metadata": {},
   "outputs": [
    {
     "data": {
      "text/plain": [
       "42"
      ]
     },
     "execution_count": 4,
     "metadata": {},
     "output_type": "execute_result"
    }
   ],
   "source": [
    "num1"
   ]
  },
  {
   "cell_type": "code",
   "execution_count": 5,
   "id": "7cb4edf6-e306-4077-9470-6db09343f4ef",
   "metadata": {},
   "outputs": [
    {
     "data": {
      "text/plain": [
       "45"
      ]
     },
     "execution_count": 5,
     "metadata": {},
     "output_type": "execute_result"
    }
   ],
   "source": [
    "num2"
   ]
  },
  {
   "cell_type": "code",
   "execution_count": 6,
   "id": "9dded0f8-27f9-4fb8-b79f-fe6a6fb8d86e",
   "metadata": {},
   "outputs": [
    {
     "data": {
      "text/plain": [
       "'Tejas'"
      ]
     },
     "execution_count": 6,
     "metadata": {},
     "output_type": "execute_result"
    }
   ],
   "source": [
    "num3"
   ]
  },
  {
   "cell_type": "code",
   "execution_count": 7,
   "id": "5ddb01e6-3072-436f-b16a-e1f5687cbe7c",
   "metadata": {},
   "outputs": [
    {
     "data": {
      "text/plain": [
       "87"
      ]
     },
     "execution_count": 7,
     "metadata": {},
     "output_type": "execute_result"
    }
   ],
   "source": [
    "result = num1 + num2\n",
    "result"
   ]
  },
  {
   "cell_type": "code",
   "execution_count": 8,
   "id": "857f22c7-bf42-49b9-bdac-2cb163bb12d8",
   "metadata": {},
   "outputs": [
    {
     "name": "stdout",
     "output_type": "stream",
     "text": [
      "95\n"
     ]
    }
   ],
   "source": [
    "num1 = 45; num2 = 50; result = num1 + num2; print(result)"
   ]
  },
  {
   "cell_type": "code",
   "execution_count": 9,
   "id": "1f9f99dd-df3f-4c59-ae59-0c9481721744",
   "metadata": {},
   "outputs": [
    {
     "data": {
      "text/plain": [
       "'tejas'"
      ]
     },
     "execution_count": 9,
     "metadata": {},
     "output_type": "execute_result"
    }
   ],
   "source": [
    "name = 'Tejas'\n",
    "name.lower()"
   ]
  },
  {
   "cell_type": "code",
   "execution_count": 10,
   "id": "d270473e-352e-4a6d-bc5c-16a714ab5e60",
   "metadata": {},
   "outputs": [
    {
     "data": {
      "text/plain": [
       "'TEJAS'"
      ]
     },
     "execution_count": 10,
     "metadata": {},
     "output_type": "execute_result"
    }
   ],
   "source": [
    "name.upper()"
   ]
  },
  {
   "cell_type": "code",
   "execution_count": 11,
   "id": "1c504320-6429-426d-9532-bb53d56caffe",
   "metadata": {},
   "outputs": [
    {
     "data": {
      "text/plain": [
       "'tEJAS'"
      ]
     },
     "execution_count": 11,
     "metadata": {},
     "output_type": "execute_result"
    }
   ],
   "source": [
    "name.swapcase()"
   ]
  },
  {
   "cell_type": "code",
   "execution_count": 12,
   "id": "4d04cc06-24cf-43c6-bcae-aab316050d65",
   "metadata": {},
   "outputs": [
    {
     "data": {
      "text/plain": [
       "5"
      ]
     },
     "execution_count": 12,
     "metadata": {},
     "output_type": "execute_result"
    }
   ],
   "source": [
    "len(name)"
   ]
  },
  {
   "cell_type": "code",
   "execution_count": 13,
   "id": "c1bb40a9-d224-4a7a-9b3e-7419d14739a5",
   "metadata": {},
   "outputs": [
    {
     "data": {
      "text/plain": [
       "False"
      ]
     },
     "execution_count": 13,
     "metadata": {},
     "output_type": "execute_result"
    }
   ],
   "source": [
    "name.isupper()"
   ]
  },
  {
   "cell_type": "code",
   "execution_count": 14,
   "id": "014108cc-fa72-4e6f-9b05-25a6701cda69",
   "metadata": {},
   "outputs": [
    {
     "data": {
      "text/plain": [
       "False"
      ]
     },
     "execution_count": 14,
     "metadata": {},
     "output_type": "execute_result"
    }
   ],
   "source": [
    "name.islower()"
   ]
  },
  {
   "cell_type": "code",
   "execution_count": 15,
   "id": "0059e75e-6e76-43e9-825f-ab4b37320ae5",
   "metadata": {},
   "outputs": [
    {
     "data": {
      "text/plain": [
       "True"
      ]
     },
     "execution_count": 15,
     "metadata": {},
     "output_type": "execute_result"
    }
   ],
   "source": [
    "name.istitle()"
   ]
  },
  {
   "cell_type": "code",
   "execution_count": 16,
   "id": "6e57c2f6-43fd-4f2b-a00a-a067cb011194",
   "metadata": {},
   "outputs": [
    {
     "data": {
      "text/plain": [
       "True"
      ]
     },
     "execution_count": 16,
     "metadata": {},
     "output_type": "execute_result"
    }
   ],
   "source": [
    "data1 = ' Tejas '; data2 = '1234'; data3 = 'Tej123'\n",
    "data1.isalpha()"
   ]
  },
  {
   "cell_type": "code",
   "execution_count": 17,
   "id": "dd24b3b9-e1ca-41f0-a4a0-46602794ef96",
   "metadata": {},
   "outputs": [
    {
     "data": {
      "text/plain": [
       "False"
      ]
     },
     "execution_count": 17,
     "metadata": {},
     "output_type": "execute_result"
    }
   ],
   "source": [
    "data2.isalpha()"
   ]
  },
  {
   "cell_type": "code",
   "execution_count": 18,
   "id": "23a61355-e636-462b-8c86-a76cea74e169",
   "metadata": {},
   "outputs": [
    {
     "data": {
      "text/plain": [
       "False"
      ]
     },
     "execution_count": 18,
     "metadata": {},
     "output_type": "execute_result"
    }
   ],
   "source": [
    "data3.isalpha()"
   ]
  },
  {
   "cell_type": "code",
   "execution_count": 19,
   "id": "ab1d2a5a-9227-46ad-a2e0-42b20ce99b81",
   "metadata": {},
   "outputs": [
    {
     "data": {
      "text/plain": [
       "True"
      ]
     },
     "execution_count": 19,
     "metadata": {},
     "output_type": "execute_result"
    }
   ],
   "source": [
    "data2.isdigit()"
   ]
  },
  {
   "cell_type": "code",
   "execution_count": 20,
   "id": "83f15baa-ceac-4015-a12e-a692dd664a6d",
   "metadata": {},
   "outputs": [
    {
     "data": {
      "text/plain": [
       "False"
      ]
     },
     "execution_count": 20,
     "metadata": {},
     "output_type": "execute_result"
    }
   ],
   "source": [
    "data3.isdigit()"
   ]
  },
  {
   "cell_type": "code",
   "execution_count": 21,
   "id": "eeb806f0-319c-40d4-9faa-7fef589b79b5",
   "metadata": {},
   "outputs": [
    {
     "data": {
      "text/plain": [
       "True"
      ]
     },
     "execution_count": 21,
     "metadata": {},
     "output_type": "execute_result"
    }
   ],
   "source": [
    "data3.isalnum()"
   ]
  },
  {
   "cell_type": "code",
   "execution_count": 22,
   "id": "be7d083a-a1e1-4853-83e5-bad49b527384",
   "metadata": {},
   "outputs": [
    {
     "data": {
      "text/plain": [
       "True"
      ]
     },
     "execution_count": 22,
     "metadata": {},
     "output_type": "execute_result"
    }
   ],
   "source": [
    "data1.isalnum()"
   ]
  },
  {
   "cell_type": "code",
   "execution_count": 23,
   "id": "78b5642c-8822-46cf-a36a-8c74bb82699d",
   "metadata": {},
   "outputs": [
    {
     "data": {
      "text/plain": [
       "'Tejas'"
      ]
     },
     "execution_count": 23,
     "metadata": {},
     "output_type": "execute_result"
    }
   ],
   "source": [
    "data1.lstrip()"
   ]
  },
  {
   "cell_type": "code",
   "execution_count": 24,
   "id": "ec6c0dea-d992-43df-a313-b12f261fe0af",
   "metadata": {},
   "outputs": [
    {
     "data": {
      "text/plain": [
       "'Tejas'"
      ]
     },
     "execution_count": 24,
     "metadata": {},
     "output_type": "execute_result"
    }
   ],
   "source": [
    "data1.rstrip()"
   ]
  },
  {
   "cell_type": "code",
   "execution_count": 25,
   "id": "4e5d3397-d86d-4b18-96cc-f7b30cb4eed7",
   "metadata": {},
   "outputs": [
    {
     "data": {
      "text/plain": [
       "'Tejas'"
      ]
     },
     "execution_count": 25,
     "metadata": {},
     "output_type": "execute_result"
    }
   ],
   "source": [
    "name"
   ]
  },
  {
   "cell_type": "code",
   "execution_count": 26,
   "id": "46bcc1dd-e910-4ae3-9320-8c7449c916a3",
   "metadata": {},
   "outputs": [
    {
     "data": {
      "text/plain": [
       "True"
      ]
     },
     "execution_count": 26,
     "metadata": {},
     "output_type": "execute_result"
    }
   ],
   "source": [
    "name.startswith('T')"
   ]
  },
  {
   "cell_type": "code",
   "execution_count": 27,
   "id": "75c69ed9-bc3f-42f1-8c11-7ce07fc8911f",
   "metadata": {},
   "outputs": [
    {
     "data": {
      "text/plain": [
       "True"
      ]
     },
     "execution_count": 27,
     "metadata": {},
     "output_type": "execute_result"
    }
   ],
   "source": [
    "name.endswith('s')"
   ]
  },
  {
   "cell_type": "code",
   "execution_count": 28,
   "id": "1b64e561-5586-4dc1-9942-6d661574495a",
   "metadata": {},
   "outputs": [
    {
     "data": {
      "text/plain": [
       "'Sejas'"
      ]
     },
     "execution_count": 28,
     "metadata": {},
     "output_type": "execute_result"
    }
   ],
   "source": [
    "name.replace('T', 'S')"
   ]
  },
  {
   "cell_type": "code",
   "execution_count": 29,
   "id": "4d927a29-daad-42a4-8063-a8f3aad50452",
   "metadata": {},
   "outputs": [
    {
     "data": {
      "text/plain": [
       "2"
      ]
     },
     "execution_count": 29,
     "metadata": {},
     "output_type": "execute_result"
    }
   ],
   "source": [
    "name.find('j')"
   ]
  },
  {
   "cell_type": "code",
   "execution_count": 30,
   "id": "0e8ef2e3-1863-4b9e-ad5b-05130a411126",
   "metadata": {},
   "outputs": [
    {
     "data": {
      "text/plain": [
       "['__add__',\n",
       " '__class__',\n",
       " '__contains__',\n",
       " '__delattr__',\n",
       " '__dir__',\n",
       " '__doc__',\n",
       " '__eq__',\n",
       " '__format__',\n",
       " '__ge__',\n",
       " '__getattribute__',\n",
       " '__getitem__',\n",
       " '__getnewargs__',\n",
       " '__getstate__',\n",
       " '__gt__',\n",
       " '__hash__',\n",
       " '__init__',\n",
       " '__init_subclass__',\n",
       " '__iter__',\n",
       " '__le__',\n",
       " '__len__',\n",
       " '__lt__',\n",
       " '__mod__',\n",
       " '__mul__',\n",
       " '__ne__',\n",
       " '__new__',\n",
       " '__reduce__',\n",
       " '__reduce_ex__',\n",
       " '__repr__',\n",
       " '__rmod__',\n",
       " '__rmul__',\n",
       " '__setattr__',\n",
       " '__sizeof__',\n",
       " '__str__',\n",
       " '__subclasshook__',\n",
       " 'capitalize',\n",
       " 'casefold',\n",
       " 'center',\n",
       " 'count',\n",
       " 'encode',\n",
       " 'endswith',\n",
       " 'expandtabs',\n",
       " 'find',\n",
       " 'format',\n",
       " 'format_map',\n",
       " 'index',\n",
       " 'isalnum',\n",
       " 'isalpha',\n",
       " 'isascii',\n",
       " 'isdecimal',\n",
       " 'isdigit',\n",
       " 'isidentifier',\n",
       " 'islower',\n",
       " 'isnumeric',\n",
       " 'isprintable',\n",
       " 'isspace',\n",
       " 'istitle',\n",
       " 'isupper',\n",
       " 'join',\n",
       " 'ljust',\n",
       " 'lower',\n",
       " 'lstrip',\n",
       " 'maketrans',\n",
       " 'partition',\n",
       " 'removeprefix',\n",
       " 'removesuffix',\n",
       " 'replace',\n",
       " 'rfind',\n",
       " 'rindex',\n",
       " 'rjust',\n",
       " 'rpartition',\n",
       " 'rsplit',\n",
       " 'rstrip',\n",
       " 'split',\n",
       " 'splitlines',\n",
       " 'startswith',\n",
       " 'strip',\n",
       " 'swapcase',\n",
       " 'title',\n",
       " 'translate',\n",
       " 'upper',\n",
       " 'zfill']"
      ]
     },
     "execution_count": 30,
     "metadata": {},
     "output_type": "execute_result"
    }
   ],
   "source": [
    "dir(name)"
   ]
  },
  {
   "cell_type": "code",
   "execution_count": 31,
   "id": "254b930e-f797-41ca-a7e3-b36b4ad54631",
   "metadata": {},
   "outputs": [
    {
     "name": "stdout",
     "output_type": "stream",
     "text": [
      "Help on built-in function split:\n",
      "\n",
      "split(sep=None, maxsplit=-1) method of builtins.str instance\n",
      "    Return a list of the substrings in the string, using sep as the separator string.\n",
      "    \n",
      "      sep\n",
      "        The separator used to split the string.\n",
      "    \n",
      "        When set to None (the default value), will split on any whitespace\n",
      "        character (including \\n \\r \\t \\f and spaces) and will discard\n",
      "        empty strings from the result.\n",
      "      maxsplit\n",
      "        Maximum number of splits (starting from the left).\n",
      "        -1 (the default value) means no limit.\n",
      "    \n",
      "    Note, str.split() is mainly useful for data that has been intentionally\n",
      "    delimited.  With natural text that includes punctuation, consider using\n",
      "    the regular expression module.\n",
      "\n"
     ]
    }
   ],
   "source": [
    "help(name.split)"
   ]
  },
  {
   "cell_type": "code",
   "execution_count": 32,
   "id": "bb42e1eb-8a13-4f7d-b8a3-3f1ed97e0a7f",
   "metadata": {},
   "outputs": [
    {
     "data": {
      "text/plain": [
       "'tejas'"
      ]
     },
     "execution_count": 32,
     "metadata": {},
     "output_type": "execute_result"
    }
   ],
   "source": [
    "name.lower()"
   ]
  },
  {
   "cell_type": "code",
   "execution_count": 33,
   "id": "ad4b7264-6a18-4bdc-b52f-aedf06c519d3",
   "metadata": {},
   "outputs": [
    {
     "data": {
      "text/plain": [
       "'tejas1234'"
      ]
     },
     "execution_count": 33,
     "metadata": {},
     "output_type": "execute_result"
    }
   ],
   "source": [
    "name1 = 'tejas'; name2 = '1234'; \n",
    "result = name1 + name2;\n",
    "result"
   ]
  },
  {
   "cell_type": "code",
   "execution_count": 34,
   "id": "f66d0ba1-2a53-4e6c-afd1-c0df86deaace",
   "metadata": {},
   "outputs": [
    {
     "data": {
      "text/plain": [
       "'tejastejastejas'"
      ]
     },
     "execution_count": 34,
     "metadata": {},
     "output_type": "execute_result"
    }
   ],
   "source": [
    "name1 * 3"
   ]
  },
  {
   "cell_type": "code",
   "execution_count": 35,
   "id": "d1007f78-39dc-4a10-bb00-09dc33bf6fe0",
   "metadata": {},
   "outputs": [
    {
     "name": "stdout",
     "output_type": "stream",
     "text": [
      "Hello\n",
      "World\n"
     ]
    }
   ],
   "source": [
    "print(\"Hello\\nWorld\")"
   ]
  },
  {
   "cell_type": "code",
   "execution_count": 36,
   "id": "d82c09e2-3399-4bde-bae7-b03bfabf2a4c",
   "metadata": {},
   "outputs": [
    {
     "name": "stdout",
     "output_type": "stream",
     "text": [
      "Hello\tworld\n"
     ]
    }
   ],
   "source": [
    "print(\"Hello\\tworld\")"
   ]
  },
  {
   "cell_type": "code",
   "execution_count": 37,
   "id": "d0ea9516-2999-464d-ac02-e32b9865d0c3",
   "metadata": {},
   "outputs": [
    {
     "name": "stdout",
     "output_type": "stream",
     "text": [
      " this is 1st\n",
      "this is 2nd \n",
      "this is 3rd\n",
      "\n"
     ]
    }
   ],
   "source": [
    "print(''' this is 1st\n",
    "this is 2nd \n",
    "this is 3rd\n",
    "''')"
   ]
  },
  {
   "cell_type": "code",
   "execution_count": 38,
   "id": "a8acc1ca-2493-46dd-9c6d-6c144ac3680a",
   "metadata": {},
   "outputs": [
    {
     "ename": "NameError",
     "evalue": "name 'ard' is not defined",
     "output_type": "error",
     "traceback": [
      "\u001b[1;31m---------------------------------------------------------------------------\u001b[0m",
      "\u001b[1;31mNameError\u001b[0m                                 Traceback (most recent call last)",
      "Cell \u001b[1;32mIn[38], line 2\u001b[0m\n\u001b[0;32m      1\u001b[0m \u001b[38;5;66;03m#ascii\u001b[39;00m\n\u001b[1;32m----> 2\u001b[0m ard(\u001b[38;5;124m'\u001b[39m\u001b[38;5;124ma\u001b[39m\u001b[38;5;124m'\u001b[39m)\n",
      "\u001b[1;31mNameError\u001b[0m: name 'ard' is not defined"
     ]
    }
   ],
   "source": [
    "#ascii\n",
    "ard('a')"
   ]
  },
  {
   "cell_type": "code",
   "execution_count": 39,
   "id": "65136f42-9f04-4768-8e10-d26824f2e519",
   "metadata": {},
   "outputs": [
    {
     "ename": "SyntaxError",
     "evalue": "incomplete input (2128830111.py, line 1)",
     "output_type": "error",
     "traceback": [
      "\u001b[1;36m  Cell \u001b[1;32mIn[39], line 1\u001b[1;36m\u001b[0m\n\u001b[1;33m    ord('a'\u001b[0m\n\u001b[1;37m           ^\u001b[0m\n\u001b[1;31mSyntaxError\u001b[0m\u001b[1;31m:\u001b[0m incomplete input\n"
     ]
    }
   ],
   "source": [
    "ord('a'"
   ]
  },
  {
   "cell_type": "code",
   "execution_count": 40,
   "id": "93048a50-5833-4974-a7cc-3efb743c3761",
   "metadata": {},
   "outputs": [
    {
     "data": {
      "text/plain": [
       "97"
      ]
     },
     "execution_count": 40,
     "metadata": {},
     "output_type": "execute_result"
    }
   ],
   "source": [
    "ord('a')"
   ]
  },
  {
   "cell_type": "code",
   "execution_count": 41,
   "id": "a467a556-88d2-4c56-98c4-f8f429f0da49",
   "metadata": {},
   "outputs": [
    {
     "data": {
      "text/plain": [
       "'z'"
      ]
     },
     "execution_count": 41,
     "metadata": {},
     "output_type": "execute_result"
    }
   ],
   "source": [
    "chr(122)"
   ]
  },
  {
   "cell_type": "code",
   "execution_count": 42,
   "id": "c8c8baa8-a9a3-4f04-be49-50f02369055f",
   "metadata": {},
   "outputs": [
    {
     "ename": "SyntaxError",
     "evalue": "invalid syntax. Perhaps you forgot a comma? (2592331326.py, line 5)",
     "output_type": "error",
     "traceback": [
      "\u001b[1;36m  Cell \u001b[1;32mIn[42], line 5\u001b[1;36m\u001b[0m\n\u001b[1;33m    print(\"My name is\" (name) \"and marks are (marks)\")\u001b[0m\n\u001b[1;37m          ^\u001b[0m\n\u001b[1;31mSyntaxError\u001b[0m\u001b[1;31m:\u001b[0m invalid syntax. Perhaps you forgot a comma?\n"
     ]
    }
   ],
   "source": [
    "# print function\n",
    "\n",
    "name = 'tejas'\n",
    "marks = 71\n",
    "print(\"My name is\" (name) \"and marks are (marks)\")"
   ]
  },
  {
   "cell_type": "code",
   "execution_count": 43,
   "id": "f01d17ff-64fb-4c94-8524-472ec3e8c09a",
   "metadata": {},
   "outputs": [
    {
     "name": "stdout",
     "output_type": "stream",
     "text": [
      "My name is (name) and marks are (marks)\n"
     ]
    }
   ],
   "source": [
    "name = 'tejas'\n",
    "marks = 71\n",
    "print(\"My name is (name) and marks are (marks)\")"
   ]
  },
  {
   "cell_type": "code",
   "execution_count": 44,
   "id": "bf4f1415-effa-44f8-b9df-2d3416496977",
   "metadata": {},
   "outputs": [
    {
     "name": "stdout",
     "output_type": "stream",
     "text": [
      "My name is  tejas  and marks are 71\n"
     ]
    }
   ],
   "source": [
    "name = 'tejas'\n",
    "marks = 71\n",
    "print('My name is ',name,' and marks are',marks)"
   ]
  },
  {
   "cell_type": "code",
   "execution_count": 45,
   "id": "fea56e13-8925-45c4-adf7-e98d21e65333",
   "metadata": {},
   "outputs": [
    {
     "ename": "SyntaxError",
     "evalue": "unterminated string literal (detected at line 1) (3119375798.py, line 1)",
     "output_type": "error",
     "traceback": [
      "\u001b[1;36m  Cell \u001b[1;32mIn[45], line 1\u001b[1;36m\u001b[0m\n\u001b[1;33m    print('my name is %s and marks are %i %(name, marks)\u001b[0m\n\u001b[1;37m          ^\u001b[0m\n\u001b[1;31mSyntaxError\u001b[0m\u001b[1;31m:\u001b[0m unterminated string literal (detected at line 1)\n"
     ]
    }
   ],
   "source": [
    "print('my name is %s and marks are %i %(name, marks)"
   ]
  },
  {
   "cell_type": "code",
   "execution_count": 46,
   "id": "e0869bbb-0fc1-4788-ad5c-09d6e01f76ce",
   "metadata": {},
   "outputs": [
    {
     "name": "stdout",
     "output_type": "stream",
     "text": [
      "my name is tejas and marks are 71\n"
     ]
    }
   ],
   "source": [
    "print('my name is %s and marks are %i' %(name, marks))"
   ]
  },
  {
   "cell_type": "code",
   "execution_count": 47,
   "id": "3f84cded-8630-484d-8860-e9b883f76ea4",
   "metadata": {},
   "outputs": [
    {
     "ename": "NameError",
     "evalue": "name 'Pune' is not defined",
     "output_type": "error",
     "traceback": [
      "\u001b[1;31m---------------------------------------------------------------------------\u001b[0m",
      "\u001b[1;31mNameError\u001b[0m                                 Traceback (most recent call last)",
      "Cell \u001b[1;32mIn[47], line 1\u001b[0m\n\u001b[1;32m----> 1\u001b[0m city \u001b[38;5;241m=\u001b[39m Pune\n\u001b[0;32m      2\u001b[0m \u001b[38;5;28mprint\u001b[39m(name, marks, city)\n",
      "\u001b[1;31mNameError\u001b[0m: name 'Pune' is not defined"
     ]
    }
   ],
   "source": [
    "city = Pune\n",
    "print(name, marks, city)"
   ]
  },
  {
   "cell_type": "code",
   "execution_count": 48,
   "id": "2c0d3df4-98e6-4dd4-94e9-dab7986f7269",
   "metadata": {},
   "outputs": [
    {
     "name": "stdout",
     "output_type": "stream",
     "text": [
      "tejas 71 Pune\n"
     ]
    }
   ],
   "source": [
    "city = 'Pune'\n",
    "print(name, marks, city)"
   ]
  },
  {
   "cell_type": "code",
   "execution_count": 49,
   "id": "2ebb2ee8-c36f-41aa-b852-0ffa666853e7",
   "metadata": {},
   "outputs": [
    {
     "name": "stdout",
     "output_type": "stream",
     "text": [
      "tejas 71 Pune * "
     ]
    }
   ],
   "source": [
    "print(name, marks, city, end = ' * ')"
   ]
  },
  {
   "cell_type": "code",
   "execution_count": 50,
   "id": "a41e3bbe-45b3-4586-96e7-36063eb0b962",
   "metadata": {},
   "outputs": [],
   "source": [
    "num1 = 54.66\n",
    "num2 = 2"
   ]
  },
  {
   "cell_type": "code",
   "execution_count": 51,
   "id": "e4ba31ad-7761-46df-8aff-3917bea3f1c7",
   "metadata": {},
   "outputs": [
    {
     "data": {
      "text/plain": [
       "56.66"
      ]
     },
     "execution_count": 51,
     "metadata": {},
     "output_type": "execute_result"
    }
   ],
   "source": [
    "num1 + num2"
   ]
  },
  {
   "cell_type": "code",
   "execution_count": 52,
   "id": "228f9d83-fb3b-40bb-8010-a25f476778e2",
   "metadata": {},
   "outputs": [
    {
     "data": {
      "text/plain": [
       "52.66"
      ]
     },
     "execution_count": 52,
     "metadata": {},
     "output_type": "execute_result"
    }
   ],
   "source": [
    "num1 - num2"
   ]
  },
  {
   "cell_type": "code",
   "execution_count": 53,
   "id": "869111c7-d8da-4895-98d9-c8afdef17716",
   "metadata": {},
   "outputs": [
    {
     "data": {
      "text/plain": [
       "109.32"
      ]
     },
     "execution_count": 53,
     "metadata": {},
     "output_type": "execute_result"
    }
   ],
   "source": [
    "num1 * num2"
   ]
  },
  {
   "cell_type": "code",
   "execution_count": 54,
   "id": "62f11fec-b344-42d4-8dae-b753f24e65a3",
   "metadata": {},
   "outputs": [
    {
     "data": {
      "text/plain": [
       "27.33"
      ]
     },
     "execution_count": 54,
     "metadata": {},
     "output_type": "execute_result"
    }
   ],
   "source": [
    "num1 /  num2"
   ]
  },
  {
   "cell_type": "code",
   "execution_count": 55,
   "id": "0853a157-5cc5-4e91-bfed-ddf1eea8b40c",
   "metadata": {},
   "outputs": [
    {
     "data": {
      "text/plain": [
       "2987.7155999999995"
      ]
     },
     "execution_count": 55,
     "metadata": {},
     "output_type": "execute_result"
    }
   ],
   "source": [
    "num1 ** num2"
   ]
  },
  {
   "cell_type": "code",
   "execution_count": 56,
   "id": "755a3cbc-da99-4803-bb5f-28e0eeabff72",
   "metadata": {},
   "outputs": [
    {
     "ename": "NameError",
     "evalue": "name 'numm2' is not defined",
     "output_type": "error",
     "traceback": [
      "\u001b[1;31m---------------------------------------------------------------------------\u001b[0m",
      "\u001b[1;31mNameError\u001b[0m                                 Traceback (most recent call last)",
      "Cell \u001b[1;32mIn[56], line 1\u001b[0m\n\u001b[1;32m----> 1\u001b[0m num1 \u001b[38;5;241m/\u001b[39m\u001b[38;5;241m/\u001b[39m numm2\n",
      "\u001b[1;31mNameError\u001b[0m: name 'numm2' is not defined"
     ]
    }
   ],
   "source": [
    "num1 // numm2"
   ]
  },
  {
   "cell_type": "code",
   "execution_count": 57,
   "id": "19178352-a9c3-40cf-b1d1-6feb9f1eaaaa",
   "metadata": {},
   "outputs": [
    {
     "data": {
      "text/plain": [
       "27.0"
      ]
     },
     "execution_count": 57,
     "metadata": {},
     "output_type": "execute_result"
    }
   ],
   "source": [
    "num1 // num2"
   ]
  },
  {
   "cell_type": "code",
   "execution_count": 58,
   "id": "6336b7fb-53f9-4c74-8184-2afc24a4bcf9",
   "metadata": {},
   "outputs": [
    {
     "data": {
      "text/plain": [
       "0.6599999999999966"
      ]
     },
     "execution_count": 58,
     "metadata": {},
     "output_type": "execute_result"
    }
   ],
   "source": [
    "num1 % num2"
   ]
  },
  {
   "cell_type": "code",
   "execution_count": 59,
   "id": "26fb92e1-59a0-4674-966f-b5d6996903f4",
   "metadata": {},
   "outputs": [
    {
     "data": {
      "text/plain": [
       "True"
      ]
     },
     "execution_count": 59,
     "metadata": {},
     "output_type": "execute_result"
    }
   ],
   "source": [
    "num1 > num2"
   ]
  },
  {
   "cell_type": "code",
   "execution_count": 60,
   "id": "c9d9451a-f993-49b5-aa77-8d0ba3537670",
   "metadata": {},
   "outputs": [
    {
     "data": {
      "text/plain": [
       "False"
      ]
     },
     "execution_count": 60,
     "metadata": {},
     "output_type": "execute_result"
    }
   ],
   "source": [
    "num1 <= num2"
   ]
  },
  {
   "cell_type": "code",
   "execution_count": 61,
   "id": "cd25e1f9-3fb5-4ce8-b26f-96be0bb2fc81",
   "metadata": {},
   "outputs": [
    {
     "data": {
      "text/plain": [
       "False"
      ]
     },
     "execution_count": 61,
     "metadata": {},
     "output_type": "execute_result"
    }
   ],
   "source": [
    "num1 == num2"
   ]
  },
  {
   "cell_type": "code",
   "execution_count": 62,
   "id": "5fb1d116-a936-485a-b655-ad290aaf7641",
   "metadata": {},
   "outputs": [
    {
     "data": {
      "text/plain": [
       "True"
      ]
     },
     "execution_count": 62,
     "metadata": {},
     "output_type": "execute_result"
    }
   ],
   "source": [
    "num1 != num2"
   ]
  },
  {
   "cell_type": "code",
   "execution_count": 63,
   "id": "aed08819-024d-4160-b24b-19ecd4c07dae",
   "metadata": {},
   "outputs": [],
   "source": [
    "num1 = 45"
   ]
  },
  {
   "cell_type": "code",
   "execution_count": 64,
   "id": "3474b1c6-0eaf-4b21-9287-5084307c5162",
   "metadata": {},
   "outputs": [],
   "source": [
    "num1 += 50            #num1 = num1 + 50"
   ]
  },
  {
   "cell_type": "code",
   "execution_count": 66,
   "id": "c730e0fd-f4fa-4f21-b47a-334d1b7d37a0",
   "metadata": {},
   "outputs": [
    {
     "data": {
      "text/plain": [
       "95"
      ]
     },
     "execution_count": 66,
     "metadata": {},
     "output_type": "execute_result"
    }
   ],
   "source": [
    "num1"
   ]
  },
  {
   "cell_type": "code",
   "execution_count": 67,
   "id": "9b1f8aba-cb17-4807-8976-2d53ee81c8e4",
   "metadata": {},
   "outputs": [
    {
     "data": {
      "text/plain": [
       "False"
      ]
     },
     "execution_count": 67,
     "metadata": {},
     "output_type": "execute_result"
    }
   ],
   "source": [
    " num1 < num2 and num1 > 0"
   ]
  },
  {
   "cell_type": "code",
   "execution_count": 68,
   "id": "9e9b37cc-40cb-460e-9e82-aa5a8e372505",
   "metadata": {},
   "outputs": [
    {
     "data": {
      "text/plain": [
       "True"
      ]
     },
     "execution_count": 68,
     "metadata": {},
     "output_type": "execute_result"
    }
   ],
   "source": [
    "num1 < num2 or num1 > 0"
   ]
  },
  {
   "cell_type": "code",
   "execution_count": 69,
   "id": "d5b4a94e-38c3-4833-ae04-745ec0181897",
   "metadata": {},
   "outputs": [
    {
     "data": {
      "text/plain": [
       "'tejas'"
      ]
     },
     "execution_count": 69,
     "metadata": {},
     "output_type": "execute_result"
    }
   ],
   "source": [
    "name"
   ]
  },
  {
   "cell_type": "code",
   "execution_count": 70,
   "id": "500a07ea-ccaa-4735-8666-59a0f2803035",
   "metadata": {},
   "outputs": [
    {
     "data": {
      "text/plain": [
       "True"
      ]
     },
     "execution_count": 70,
     "metadata": {},
     "output_type": "execute_result"
    }
   ],
   "source": [
    "'t' in name"
   ]
  },
  {
   "cell_type": "code",
   "execution_count": 71,
   "id": "35ff805c-6909-486d-ab39-d2cb1dfdcdc7",
   "metadata": {},
   "outputs": [
    {
     "data": {
      "text/plain": [
       "False"
      ]
     },
     "execution_count": 71,
     "metadata": {},
     "output_type": "execute_result"
    }
   ],
   "source": [
    "'i' in name"
   ]
  },
  {
   "cell_type": "code",
   "execution_count": 72,
   "id": "92b18ffe-9b6d-4521-85bd-5a3747e96dd3",
   "metadata": {},
   "outputs": [
    {
     "data": {
      "text/plain": [
       "True"
      ]
     },
     "execution_count": 72,
     "metadata": {},
     "output_type": "execute_result"
    }
   ],
   "source": [
    "'i' not in name"
   ]
  },
  {
   "cell_type": "code",
   "execution_count": 73,
   "id": "f1e9e627-614d-4103-aa58-8fba6e558251",
   "metadata": {},
   "outputs": [],
   "source": [
    "#type casting"
   ]
  },
  {
   "cell_type": "code",
   "execution_count": 74,
   "id": "b86dcc51-92fc-4404-9368-0464fa1f2f2c",
   "metadata": {},
   "outputs": [],
   "source": [
    "num1 = 34\n",
    "num2 = 33.12"
   ]
  },
  {
   "cell_type": "code",
   "execution_count": 75,
   "id": "fae027d3-b552-4b82-a9f7-1050864244cf",
   "metadata": {},
   "outputs": [
    {
     "data": {
      "text/plain": [
       "67.12"
      ]
     },
     "execution_count": 75,
     "metadata": {},
     "output_type": "execute_result"
    }
   ],
   "source": [
    "num1 + num2"
   ]
  },
  {
   "cell_type": "code",
   "execution_count": 76,
   "id": "8d6a1476-fac0-4000-9997-43fa64662c87",
   "metadata": {},
   "outputs": [
    {
     "data": {
      "text/plain": [
       "67"
      ]
     },
     "execution_count": 76,
     "metadata": {},
     "output_type": "execute_result"
    }
   ],
   "source": [
    "num1 + int(num2)"
   ]
  },
  {
   "cell_type": "code",
   "execution_count": 77,
   "id": "70c9b981-852d-4694-97c0-2274df685fe0",
   "metadata": {},
   "outputs": [],
   "source": [
    "num3 = '1234'"
   ]
  },
  {
   "cell_type": "code",
   "execution_count": 78,
   "id": "891ed7fb-f382-456c-b13d-a56e3e9887d4",
   "metadata": {},
   "outputs": [
    {
     "ename": "NameError",
     "evalue": "name 'nunm3' is not defined",
     "output_type": "error",
     "traceback": [
      "\u001b[1;31m---------------------------------------------------------------------------\u001b[0m",
      "\u001b[1;31mNameError\u001b[0m                                 Traceback (most recent call last)",
      "Cell \u001b[1;32mIn[78], line 1\u001b[0m\n\u001b[1;32m----> 1\u001b[0m nunm3 \u001b[38;5;241m*\u001b[39m \u001b[38;5;241m3\u001b[39m\n",
      "\u001b[1;31mNameError\u001b[0m: name 'nunm3' is not defined"
     ]
    }
   ],
   "source": [
    "nunm3 * 3 "
   ]
  },
  {
   "cell_type": "code",
   "execution_count": 79,
   "id": "1a20f207-6b61-443c-8281-e4c218e5c053",
   "metadata": {},
   "outputs": [
    {
     "data": {
      "text/plain": [
       "'123412341234'"
      ]
     },
     "execution_count": 79,
     "metadata": {},
     "output_type": "execute_result"
    }
   ],
   "source": [
    "num3 * 3"
   ]
  },
  {
   "cell_type": "code",
   "execution_count": 80,
   "id": "8e771848-cc96-4ef5-9802-0d5a101fdaf1",
   "metadata": {},
   "outputs": [
    {
     "data": {
      "text/plain": [
       "3702"
      ]
     },
     "execution_count": 80,
     "metadata": {},
     "output_type": "execute_result"
    }
   ],
   "source": [
    "int(num3)  * 3"
   ]
  },
  {
   "cell_type": "code",
   "execution_count": 81,
   "id": "d97fec95-55a9-4429-8196-fed3fe4bf19b",
   "metadata": {},
   "outputs": [],
   "source": [
    "name = 'tejas'\n",
    "num1 = 67"
   ]
  },
  {
   "cell_type": "code",
   "execution_count": 82,
   "id": "7e7bc61a-27fc-4220-b256-f6b857fadfcf",
   "metadata": {},
   "outputs": [
    {
     "name": "stdout",
     "output_type": "stream",
     "text": [
      "my password is tejas67\n"
     ]
    }
   ],
   "source": [
    "print('my password is',name + str(num1))"
   ]
  },
  {
   "cell_type": "code",
   "execution_count": 83,
   "id": "9a8fc583-ac88-4461-9848-f803f9eaee3f",
   "metadata": {},
   "outputs": [],
   "source": [
    "#user input"
   ]
  },
  {
   "cell_type": "code",
   "execution_count": 84,
   "id": "fc894f2b-a9d3-4334-9afd-8dcb69681438",
   "metadata": {},
   "outputs": [
    {
     "name": "stdin",
     "output_type": "stream",
     "text": [
      "Enter 1st number  10\n",
      "Enter 2nd number  20\n"
     ]
    },
    {
     "name": "stdout",
     "output_type": "stream",
     "text": [
      "Addition is:  1020\n"
     ]
    }
   ],
   "source": [
    "num1 = input(\"Enter 1st number \")\n",
    "num2 = input(\"Enter 2nd number \")\n",
    "\n",
    "Add = num1 + num2 \n",
    "print(\"Addition is: \",Add)"
   ]
  },
  {
   "cell_type": "code",
   "execution_count": 85,
   "id": "45ba76f8-21a1-4052-94b0-772e557e1082",
   "metadata": {},
   "outputs": [
    {
     "name": "stdin",
     "output_type": "stream",
     "text": [
      "Enter 1st number  10\n",
      "Enter 2nd number  20\n"
     ]
    },
    {
     "name": "stdout",
     "output_type": "stream",
     "text": [
      "Addition is:  30\n"
     ]
    }
   ],
   "source": [
    "num1 = int(input(\"Enter 1st number \"))\n",
    "num2 = int(input(\"Enter 2nd number \"))\n",
    "\n",
    "Add = num1 + num2 \n",
    "print(\"Addition is: \",Add)"
   ]
  },
  {
   "cell_type": "code",
   "execution_count": 93,
   "id": "9c9b9a00-39c2-400a-96f4-7b48a7960212",
   "metadata": {},
   "outputs": [
    {
     "name": "stdin",
     "output_type": "stream",
     "text": [
      "Enter your message  tejas\n"
     ]
    },
    {
     "data": {
      "text/plain": [
       "'tejastejas'"
      ]
     },
     "execution_count": 93,
     "metadata": {},
     "output_type": "execute_result"
    }
   ],
   "source": [
    "a = str(input(\"Enter your message \"))\n",
    "\n",
    "a * 2"
   ]
  },
  {
   "cell_type": "code",
   "execution_count": 92,
   "id": "8644a0c0-bc40-400b-9c00-4a1fba152317",
   "metadata": {},
   "outputs": [
    {
     "name": "stdin",
     "output_type": "stream",
     "text": [
      "Enter your message  tejas\n",
      "Enter the number of repeatation  2\n"
     ]
    },
    {
     "name": "stdout",
     "output_type": "stream",
     "text": [
      "tejastejas\n"
     ]
    }
   ],
   "source": [
    "a = input(\"Enter your message \")\n",
    "b = int(input(\"Enter the number of repeatation \"))\n",
    "\n",
    "print(a * b)"
   ]
  },
  {
   "cell_type": "code",
   "execution_count": 89,
   "id": "c7460dad-441b-452a-b3bc-2abb8892145e",
   "metadata": {},
   "outputs": [
    {
     "name": "stdin",
     "output_type": "stream",
     "text": [
      "Enter the length  10\n",
      "Enter the height  20\n"
     ]
    },
    {
     "name": "stdout",
     "output_type": "stream",
     "text": [
      "200\n"
     ]
    }
   ],
   "source": [
    "a = int(input(\"Enter the length \"))\n",
    "b = int(input(\"Enter the height \"))\n",
    "\n",
    "area = a * b\n",
    "print(area)"
   ]
  },
  {
   "cell_type": "code",
   "execution_count": null,
   "id": "b783fe8a-09c5-409f-b7ec-fd110d53f3de",
   "metadata": {},
   "outputs": [],
   "source": [
    "a = int(input(\"Enter seconds \"))\n",
    "\n",
    "b = int(a/60)\n",
    "print(b)\n",
    "c = int(b/60)\n",
    "print(c)\n",
    "print(bc)"
   ]
  },
  {
   "cell_type": "code",
   "execution_count": 109,
   "id": "a537c44f-2c68-463f-98b1-3dd6529bc708",
   "metadata": {},
   "outputs": [
    {
     "name": "stdin",
     "output_type": "stream",
     "text": [
      "Enter seconds  3665\n"
     ]
    },
    {
     "name": "stdout",
     "output_type": "stream",
     "text": [
      "1\n",
      "5\n",
      "Conversion is  1 : 1 : 5\n"
     ]
    }
   ],
   "source": [
    "a = int(input(\"Enter seconds \"))\n",
    "\n",
    "hours = int(a//3600)\n",
    "rem_sec = a % 3600\n",
    "mins = rem_sec // 60\n",
    "print(mins)\n",
    "sec = rem_sec % 60\n",
    "print(sec)\n",
    "\n",
    "print('Conversion is ', hours,':',mins,':',sec)"
   ]
  },
  {
   "cell_type": "code",
   "execution_count": null,
   "id": "7bcccaf4-d884-464e-acaf-746074f981ec",
   "metadata": {},
   "outputs": [],
   "source": []
  },
  {
   "cell_type": "code",
   "execution_count": null,
   "id": "96616f74-74f0-4c9a-9d7e-bcf05238cc3c",
   "metadata": {},
   "outputs": [],
   "source": []
  }
 ],
 "metadata": {
  "kernelspec": {
   "display_name": "Python 3 (ipykernel)",
   "language": "python",
   "name": "python3"
  },
  "language_info": {
   "codemirror_mode": {
    "name": "ipython",
    "version": 3
   },
   "file_extension": ".py",
   "mimetype": "text/x-python",
   "name": "python",
   "nbconvert_exporter": "python",
   "pygments_lexer": "ipython3",
   "version": "3.11.7"
  }
 },
 "nbformat": 4,
 "nbformat_minor": 5
}
