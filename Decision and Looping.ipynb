{
 "cells": [
  {
   "cell_type": "markdown",
   "id": "1d1ec984-6f50-41db-8287-ef99ecc0acbc",
   "metadata": {},
   "source": [
    "# LOOPING\n"
   ]
  },
  {
   "cell_type": "code",
   "execution_count": 8,
   "id": "d68c36fe-7c2b-4895-b780-c20bf68f365a",
   "metadata": {},
   "outputs": [
    {
     "name": "stdin",
     "output_type": "stream",
     "text": [
      "Enter a number 58\n"
     ]
    },
    {
     "name": "stdout",
     "output_type": "stream",
     "text": [
      "ok\n"
     ]
    }
   ],
   "source": [
    "# check if a number is greater than 50\n",
    "\n",
    "num = int(input(\"Enter a number\"))\n",
    "\n",
    "if num > 50:\n",
    "    print(\"ok\")\n",
    "    "
   ]
  },
  {
   "cell_type": "code",
   "execution_count": 14,
   "id": "ab685205-a8db-41f3-96a4-6fb0463aff3a",
   "metadata": {},
   "outputs": [
    {
     "name": "stdin",
     "output_type": "stream",
     "text": [
      "Enter a Number 0\n"
     ]
    },
    {
     "name": "stdout",
     "output_type": "stream",
     "text": [
      "Not OK\n",
      "Its Negative\n"
     ]
    }
   ],
   "source": [
    "# Check if a number is positive or Negative\n",
    "\n",
    "num = int(input(\"Enter a Number\"))\n",
    "\n",
    "if num > 0:\n",
    "    print(\"OK\")\n",
    "    print (\"Its positive \")\n",
    "else:\n",
    "    print(\"Not OK\")\n",
    "    print(\"Its Negative\")"
   ]
  },
  {
   "cell_type": "code",
   "execution_count": 17,
   "id": "1a6805f0-44d6-4e5c-9cb4-c0dd58f7f00d",
   "metadata": {},
   "outputs": [
    {
     "name": "stdin",
     "output_type": "stream",
     "text": [
      "Enter a number 0\n"
     ]
    },
    {
     "name": "stdout",
     "output_type": "stream",
     "text": [
      "Number is Neutral\n"
     ]
    }
   ],
   "source": [
    "# Check if the number is positiove or Negative or Neutral\n",
    "\n",
    "num = int(input(\"Enter a number\"))\n",
    "\n",
    "if num > 0:\n",
    "    print(\"Number is Positive\")\n",
    "elif num == 0:\n",
    "    print(\"Number is Neutral\")\n",
    "else:\n",
    "    print(\" Number is Negative\")"
   ]
  },
  {
   "cell_type": "code",
   "execution_count": 21,
   "id": "0f9761e3-dace-4fab-bed4-51847d68f212",
   "metadata": {},
   "outputs": [
    {
     "name": "stdin",
     "output_type": "stream",
     "text": [
      "Enter a Number 50\n"
     ]
    },
    {
     "name": "stdout",
     "output_type": "stream",
     "text": [
      "Number is Even\n"
     ]
    }
   ],
   "source": [
    "# Check if the condition is even or odd\n",
    "\n",
    "num = int(input(\"Enter a Number\"))\n",
    "\n",
    "if num % 2 == 0:\n",
    "    print(\"Number is Even\")\n",
    "else:\n",
    "    print(\"Number is Odd\")"
   ]
  },
  {
   "cell_type": "code",
   "execution_count": 22,
   "id": "9a85c473-bdf4-4771-aa4c-1e2f304a7afe",
   "metadata": {},
   "outputs": [
    {
     "data": {
      "text/plain": [
       "0"
      ]
     },
     "execution_count": 22,
     "metadata": {},
     "output_type": "execute_result"
    }
   ],
   "source": [
    "int(False)"
   ]
  },
  {
   "cell_type": "code",
   "execution_count": 23,
   "id": "95c70a2e-9ee8-4bfc-b364-e0f0b24ba642",
   "metadata": {},
   "outputs": [
    {
     "data": {
      "text/plain": [
       "1"
      ]
     },
     "execution_count": 23,
     "metadata": {},
     "output_type": "execute_result"
    }
   ],
   "source": [
    "int(True)"
   ]
  },
  {
   "cell_type": "code",
   "execution_count": 25,
   "id": "ae711844-1957-4ab6-ad3f-72f599837bf3",
   "metadata": {},
   "outputs": [
    {
     "data": {
      "text/plain": [
       "3"
      ]
     },
     "execution_count": 25,
     "metadata": {},
     "output_type": "execute_result"
    }
   ],
   "source": [
    "True + True + False + True"
   ]
  },
  {
   "cell_type": "code",
   "execution_count": 29,
   "id": "0083f04b-7f9d-4bac-a3c6-d3286ad05d78",
   "metadata": {},
   "outputs": [
    {
     "name": "stdout",
     "output_type": "stream",
     "text": [
      "OK\n"
     ]
    }
   ],
   "source": [
    "a = 56\n",
    "if a:\n",
    "    print(\"OK\")"
   ]
  },
  {
   "cell_type": "code",
   "execution_count": 34,
   "id": "72dd4bb5-de40-4b59-977f-2245c3dcc943",
   "metadata": {},
   "outputs": [
    {
     "name": "stdin",
     "output_type": "stream",
     "text": [
      "Enter the Number 10\n"
     ]
    },
    {
     "name": "stdout",
     "output_type": "stream",
     "text": [
      "Not correct\n"
     ]
    }
   ],
   "source": [
    "# Check if the Number is between 50 and 150\n",
    "\n",
    "num = int(input(\"Enter the Number\"))\n",
    "if num > 50:\n",
    "    if num < 150:\n",
    "        print(\"Correct\")\n",
    "    else:\n",
    "        print(\"Greater than 150\")\n",
    "else:\n",
    "    print(\"Not correct\")"
   ]
  },
  {
   "cell_type": "code",
   "execution_count": 39,
   "id": "e5b77994-5ece-4cf3-abaf-ff83d7fc8ce9",
   "metadata": {},
   "outputs": [
    {
     "name": "stdin",
     "output_type": "stream",
     "text": [
      "Enter the Number 10\n"
     ]
    },
    {
     "name": "stdout",
     "output_type": "stream",
     "text": [
      "Incorrect\n"
     ]
    }
   ],
   "source": [
    "# Using Logical operators\n",
    "\n",
    "num = int(input(\"Enter the Number\"))\n",
    "\n",
    "if num > 50 and num < 150:\n",
    "    print(\"Correct\")\n",
    "else: \n",
    "    print(\"Incorrect\")"
   ]
  },
  {
   "cell_type": "code",
   "execution_count": 45,
   "id": "98e763a3-00aa-47ca-820b-9dae039fd7ec",
   "metadata": {},
   "outputs": [
    {
     "name": "stdin",
     "output_type": "stream",
     "text": [
      "Enter purchasing cost 200\n",
      "Enter selling cost 147\n"
     ]
    },
    {
     "name": "stdout",
     "output_type": "stream",
     "text": [
      "53\n",
      "Loss\n"
     ]
    }
   ],
   "source": [
    "# Read the purchase cost and selling cost\n",
    "# State profit and loss and how much ?\n",
    "\n",
    "Pur_price  = int(input(\"Enter purchasing cost\"))\n",
    "sell_price = int(input(\"Enter selling cost\"))\n",
    "\n",
    "if Pur_price > sell_price:\n",
    "    print(Pur_price - sell_price)\n",
    "    print(\"Loss\")\n",
    "elif  Pur_price < sell_price:\n",
    "    print(sell_price - Pur_price)\n",
    "    print(\"Profit\")\n",
    "else:\n",
    "    print(\"Nor Profit And Nor Loss\")\n",
    "           \n",
    "           \n",
    "           "
   ]
  },
  {
   "cell_type": "code",
   "execution_count": 51,
   "id": "b8090db4-4906-413f-aa39-b681a258ab97",
   "metadata": {},
   "outputs": [
    {
     "name": "stdin",
     "output_type": "stream",
     "text": [
      "Enter Number 1 :-  23\n",
      "Enter Number 2 :-  10\n",
      "Enter Number 3 :-  27\n"
     ]
    },
    {
     "name": "stdout",
     "output_type": "stream",
     "text": [
      "27  is Greater\n"
     ]
    }
   ],
   "source": [
    "# Take 3 Numbers find the largest of them\n",
    "# not allowed to use \"and or \"or\"\n",
    "\n",
    "num1 = int(input(\"Enter Number 1 :- \"))\n",
    "num2 = int(input(\"Enter Number 2 :- \"))\n",
    "num3 = int(input(\"Enter Number 3 :- \"))\n",
    "\n",
    "if num1 > num2:\n",
    "           if num1 > num3:\n",
    "                print(num1,\" is Greater\")\n",
    "           else:\n",
    "                print(num3, \" is Greater\")\n",
    "else:\n",
    "    if num2 > num3:\n",
    "        print(num2,\" is Greater\")\n",
    "    else: \n",
    "        print(num3,\" is Greater\")"
   ]
  },
  {
   "cell_type": "code",
   "execution_count": 73,
   "id": "054bd112-f243-46a4-8097-89b20342307f",
   "metadata": {},
   "outputs": [
    {
     "name": "stdin",
     "output_type": "stream",
     "text": [
      "Enter A Year 2020\n"
     ]
    },
    {
     "name": "stdout",
     "output_type": "stream",
     "text": [
      "Leap year but not a century year\n"
     ]
    }
   ],
   "source": [
    "# write a program to find if an year is a leap or Not\n",
    "\n",
    "Year = int(input(\"Enter A Year\"))\n",
    "\n",
    "if Year % 4 == 0:\n",
    "     if Year % 100 == 0:\n",
    "         if Year % 400 == 0:\n",
    "             print(\"Leap century Year\")\n",
    "         else:\n",
    "             print(\"Century Year but not a leap Year\")\n",
    "     else: \n",
    "         print(\"Leap year but not a century year\")\n",
    "else:\n",
    "    print(\"Not A Leap Year\") \n",
    " "
   ]
  },
  {
   "cell_type": "code",
   "execution_count": 78,
   "id": "267cc9ae-0e0b-4032-bd40-e6d24944f29c",
   "metadata": {},
   "outputs": [
    {
     "name": "stdin",
     "output_type": "stream",
     "text": [
      "Enter The Marks of the student :-  150\n"
     ]
    },
    {
     "name": "stdout",
     "output_type": "stream",
     "text": [
      "Invalid Marks\n"
     ]
    }
   ],
   "source": [
    "# > 60 first class\n",
    "# > 50 second Class\n",
    "# > 40 Third Class\n",
    "# > 35 Pass\n",
    "# <=35 Fail\n",
    "\n",
    "marks = int(input(\"Enter The Marks of the student :- \"))\n",
    "\n",
    "if marks > 100:\n",
    "    print(\"Invalid Marks\")\n",
    "elif marks >= 60:\n",
    "    print(\"Student is in First class\")\n",
    "elif marks >= 50:\n",
    "    print(\"Student is in second class\")\n",
    "elif marks >= 40:\n",
    "    print(\"Student is in Third class\")\n",
    "elif marks >= 35:\n",
    "    print(\" Student Just passed\")\n",
    "\n",
    "else:\n",
    "    print(\"Student Failed\")"
   ]
  },
  {
   "cell_type": "markdown",
   "id": "26b32efc-8b14-4713-9224-eb2f8d3a297f",
   "metadata": {},
   "source": [
    "# Menu Driven \n",
    "\n"
   ]
  },
  {
   "cell_type": "code",
   "execution_count": 82,
   "id": "e58a9470-b08f-4fcb-a5fd-f404fabbbb02",
   "metadata": {},
   "outputs": [
    {
     "name": "stdin",
     "output_type": "stream",
     "text": [
      "Enter a Number 25\n"
     ]
    },
    {
     "name": "stdout",
     "output_type": "stream",
     "text": [
      "MENU :-\n",
      "1.Square :-\n",
      "2.Cube :- \n",
      "3.Check Positive or Negative\n"
     ]
    },
    {
     "name": "stdin",
     "output_type": "stream",
     "text": [
      "Enter Your Choice 2\n"
     ]
    },
    {
     "name": "stdout",
     "output_type": "stream",
     "text": [
      "Cube is 15625\n"
     ]
    }
   ],
   "source": [
    "''' Based on choice it will do Square, cube and check is it positive or negative'''\n",
    "num = int(input(\"Enter a Number\"))\n",
    "\n",
    "print(\"MENU :-\\n1.Square :-\\n2.Cube :- \\n3.Check Positive or Negative\")\n",
    "\n",
    "choice = int(input(\"Enter Your Choice\"))\n",
    "\n",
    "if choice == 1:\n",
    "    print(\"Square is\", num * num)\n",
    "elif choice == 2:\n",
    "    print(\"Cube is\", num ** 3)\n",
    "elif choice == 3:\n",
    "    if num > 0:\n",
    "        print(\"Positive\")\n",
    "    else:\n",
    "        print(\"Negative\")\n",
    "else:\n",
    "    print(\"Andha Hain kya\")\n",
    "    \n",
    "    "
   ]
  },
  {
   "cell_type": "code",
   "execution_count": 88,
   "id": "8756879f-8737-4eb7-b6db-29f5849b99c6",
   "metadata": {},
   "outputs": [
    {
     "name": "stdin",
     "output_type": "stream",
     "text": [
      "Enter the First Number 10\n",
      "Enter the Second Number 12\n"
     ]
    },
    {
     "name": "stdout",
     "output_type": "stream",
     "text": [
      "MENU :-\n",
      "1.Addition\n",
      "2.Substract\n",
      "3.Floor Division\n",
      "4.Greater Or Not\n"
     ]
    },
    {
     "name": "stdin",
     "output_type": "stream",
     "text": [
      " Enter your Choise 4\n"
     ]
    },
    {
     "name": "stdout",
     "output_type": "stream",
     "text": [
      "Num2 is Greater\n"
     ]
    }
   ],
   "source": [
    "# read 2 numbers and perform add ,substract,floor division,\n",
    "# which one is greater based on the choise\n",
    "\n",
    "num = int(input(\"Enter the First Number\"))\n",
    "num2 = int(input(\"Enter the Second Number\"))\n",
    "\n",
    "print(\"MENU :-\\n1.Addition\\n2.Substract\\n3.Floor Division\\n4.Greater Or Not\")\n",
    "\n",
    "choise = int(input(\"Enter your Choise\"))\n",
    "\n",
    "if choise == 1:\n",
    "    print(\"Adddition is \",num + num2)\n",
    "elif choise == 2:\n",
    "    print(\"Substration is\", num - num2)\n",
    "elif choise == 3:\n",
    "    print(\"floor Division\",num // num2)\n",
    "elif choise == 4:\n",
    "    if num > num2:\n",
    "        print(\"Num is Greater\")\n",
    "    else:\n",
    "        print(\"Num2 is Greater\")\n",
    "else: \n",
    "    print(\"Entered Invalid Choice\")"
   ]
  },
  {
   "cell_type": "code",
   "execution_count": null,
   "id": "9a457279-662e-414c-b105-f5ce32203fa6",
   "metadata": {},
   "outputs": [],
   "source": []
  }
 ],
 "metadata": {
  "kernelspec": {
   "display_name": "Python 3 (ipykernel)",
   "language": "python",
   "name": "python3"
  },
  "language_info": {
   "codemirror_mode": {
    "name": "ipython",
    "version": 3
   },
   "file_extension": ".py",
   "mimetype": "text/x-python",
   "name": "python",
   "nbconvert_exporter": "python",
   "pygments_lexer": "ipython3",
   "version": "3.11.7"
  }
 },
 "nbformat": 4,
 "nbformat_minor": 5
}
